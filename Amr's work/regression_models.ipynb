{
 "cells": [
  {
   "cell_type": "code",
   "execution_count": 1,
   "metadata": {},
   "outputs": [],
   "source": [
    "from data_processor import DataProcessor\n",
    "from sklearn.metrics import mean_squared_error\n",
    "from sklearn.ensemble import GradientBoostingRegressor\n",
    "from sklearn.kernel_ridge import KernelRidge\n",
    "from sklearn.linear_model import SGDRegressor\n",
    "import numpy as np"
   ]
  },
  {
   "cell_type": "code",
   "execution_count": 2,
   "metadata": {},
   "outputs": [],
   "source": [
    "processor = DataProcessor(\"../data/Train.csv\", test = False, minimal = True)\n",
    "x_train, x_valid, y_train, y_valid = processor.get_numpy_data(True, True, True, False, True)"
   ]
  },
  {
   "cell_type": "code",
   "execution_count": 3,
   "metadata": {},
   "outputs": [],
   "source": [
    "batch_size = 512"
   ]
  },
  {
   "cell_type": "code",
   "execution_count": null,
   "metadata": {},
   "outputs": [],
   "source": [
    "# est = GradientBoostingRegressor(n_estimators=100, learning_rate=0.1,\n",
    "#                                 max_depth=10, random_state=0, loss='ls')\n",
    "# for b in range(0, len(x_train), batch_size):\n",
    "#     est.fit(x_train[b:b+batch_size], y_train[b:b+batch_size]) \n",
    "#     print(mean_squared_error(y_valid, est.predict(x_valid)))\n"
   ]
  },
  {
   "cell_type": "code",
   "execution_count": null,
   "metadata": {},
   "outputs": [],
   "source": [
    "batch_size = 512"
   ]
  },
  {
   "cell_type": "code",
   "execution_count": null,
   "metadata": {},
   "outputs": [],
   "source": [
    "reg = KernelRidge(alpha=.01, kernel = \"linear\")\n",
    "\n",
    "for b in range(0, len(x_train), batch_size):\n",
    "    reg.fit(x_train[b:b+batch_size], y_train[b:b+batch_size]) \n",
    "    print(mean_squared_error(y_valid, reg.predict(x_valid)))\n"
   ]
  },
  {
   "cell_type": "code",
   "execution_count": null,
   "metadata": {},
   "outputs": [],
   "source": [
    "reg.predict(x_valid[:100])"
   ]
  },
  {
   "cell_type": "code",
   "execution_count": null,
   "metadata": {},
   "outputs": [],
   "source": [
    "error = mean_squared_error(y_valid, reg.predict(x_valid))\n",
    "var = np.var(y_valid)\n",
    "print(\"The MSE error is: \", error)\n",
    "print(\"The variance of the validation set is: \", var)\n",
    "r_2 = 1 - error / var \n",
    "\n",
    "print(\"The model explians \" ,r_2 , \" of the variance in data\")"
   ]
  },
  {
   "cell_type": "code",
   "execution_count": null,
   "metadata": {},
   "outputs": [],
   "source": [
    "processor = DataProcessor(\"../data/Test.csv\", test = True)\n",
    "x_test = processor.get_numpy_data(True, True, True, False, True)"
   ]
  },
  {
   "cell_type": "code",
   "execution_count": null,
   "metadata": {},
   "outputs": [],
   "source": [
    "print(len(x_test[0]))\n",
    "print(len(x_valid[0]))\n"
   ]
  },
  {
   "cell_type": "code",
   "execution_count": null,
   "metadata": {},
   "outputs": [],
   "source": [
    "#import xgboost as xgb\n",
    "! sudo conda install xgboost \n",
    "\n",
    "param = {'max_depth':100, 'eta':0.3, 'objective':'reg:squarederror', 'eval_metric':'rmse' }\n",
    "num_round = 5\n",
    "bst = xgboost(x_train, num_round, label=y_train, eta=1, max_depth=2)\n",
    "\n",
    "preds = bst.predict(x_valid)\n",
    "print(preds)"
   ]
  },
  {
   "cell_type": "code",
   "execution_count": null,
   "metadata": {},
   "outputs": [],
   "source": [
    "error = mean_squared_error(y_valid, bst.predict(x_valid))\n",
    "var = np.var(y_valid)\n",
    "print(\"The MSE error is: \", error)\n",
    "print(\"The variance of the validation set is: \", var)\n",
    "r_2 = 1 - error / var \n",
    "\n",
    "print(\"The model explians \" ,r_2 , \" of the variance in data\")"
   ]
  },
  {
   "cell_type": "code",
   "execution_count": null,
   "metadata": {},
   "outputs": [],
   "source": []
  }
 ],
 "metadata": {
  "kernelspec": {
   "display_name": "Python 3",
   "language": "python",
   "name": "python3"
  },
  "language_info": {
   "codemirror_mode": {
    "name": "ipython",
    "version": 3
   },
   "file_extension": ".py",
   "mimetype": "text/x-python",
   "name": "python",
   "nbconvert_exporter": "python",
   "pygments_lexer": "ipython3",
   "version": "3.7.4"
  }
 },
 "nbformat": 4,
 "nbformat_minor": 2
}
