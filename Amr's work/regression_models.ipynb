{
 "cells": [
  {
   "cell_type": "code",
   "execution_count": 22,
   "metadata": {
    "collapsed": true
   },
   "outputs": [],
   "source": [
    "from data_processor import DataProcessor\n",
    "from sklearn.metrics import mean_squared_error\n",
    "from sklearn.ensemble import GradientBoostingRegressor\n",
    "from sklearn.kernel_ridge import KernelRidge\n",
    "import numpy as np"
   ]
  },
  {
   "cell_type": "code",
   "execution_count": 2,
   "metadata": {
    "collapsed": true
   },
   "outputs": [],
   "source": [
    "processor = DataProcessor()\n",
    "x_train, x_valid, y_train, y_valid = processor.get_numpy_data(True, True, True, False)"
   ]
  },
  {
   "cell_type": "code",
   "execution_count": 35,
   "metadata": {
    "collapsed": true
   },
   "outputs": [],
   "source": [
    "batch_size = 512"
   ]
  },
  {
   "cell_type": "code",
   "execution_count": 38,
   "metadata": {},
   "outputs": [
    {
     "name": "stderr",
     "output_type": "stream",
     "text": [
      "C:\\Users\\hp\\Anaconda2\\envs\\py35\\lib\\site-packages\\sklearn\\utils\\validation.py:526: DataConversionWarning: A column-vector y was passed when a 1d array was expected. Please change the shape of y to (n_samples, ), for example using ravel().\n",
      "  y = column_or_1d(y, warn=True)\n"
     ]
    },
    {
     "name": "stdout",
     "output_type": "stream",
     "text": [
      "1009672.57272\n",
      "1008282.80735\n",
      "790885.124483\n",
      "890064.326958\n",
      "762755.266435\n",
      "908367.044882\n",
      "973404.138765\n",
      "850701.136224\n",
      "835779.473209\n",
      "923361.700353\n",
      "871629.107399\n",
      "808691.199811\n",
      "850328.263971\n",
      "826710.772313\n",
      "930868.057771\n",
      "932392.969442\n",
      "879084.888975\n",
      "883703.484136\n",
      "854361.324098\n",
      "826639.264287\n",
      "889655.961985\n",
      "813130.328345\n",
      "816917.231861\n",
      "828569.039122\n",
      "795461.086951\n",
      "881218.948003\n",
      "916484.094189\n",
      "928563.24403\n"
     ]
    }
   ],
   "source": [
    "est = GradientBoostingRegressor(n_estimators=100, learning_rate=0.1,\n",
    "                                max_depth=10, random_state=0, loss='ls')\n",
    "for b in range(0, len(x_train), batch_size):\n",
    "    est.fit(x_train[b:b+batch_size], y_train[b:b+batch_size]) \n",
    "    print(mean_squared_error(y_valid, est.predict(x_valid)))\n"
   ]
  },
  {
   "cell_type": "code",
   "execution_count": 39,
   "metadata": {
    "collapsed": true
   },
   "outputs": [],
   "source": [
    "batch_size = 512"
   ]
  },
  {
   "cell_type": "code",
   "execution_count": 40,
   "metadata": {},
   "outputs": [
    {
     "name": "stdout",
     "output_type": "stream",
     "text": [
      "0.514403902518\n",
      "0.530374733455\n",
      "0.645167540017\n",
      "0.508491586584\n",
      "0.663288473589\n",
      "0.395290782401\n",
      "0.674988884739\n",
      "0.60806724561\n",
      "0.4213675058\n",
      "0.46575494168\n",
      "0.708202574009\n",
      "0.789566582484\n",
      "0.563968250534\n",
      "0.511170458267\n",
      "0.413986404491\n",
      "0.394228590064\n",
      "0.402258297967\n",
      "0.670413708014\n",
      "0.735580315056\n",
      "0.587854361753\n",
      "0.491686938501\n",
      "0.348250755184\n",
      "0.55573412569\n",
      "0.708549055145\n",
      "0.525834762772\n",
      "0.65735249997\n",
      "0.572363744674\n",
      "1.24815061325\n"
     ]
    }
   ],
   "source": [
    "clf = KernelRidge(alpha=.01, kernel = \"linear\")\n",
    "\n",
    "for b in range(0, len(x_train), batch_size):\n",
    "    clf.fit(x_train[b:b+batch_size], y_train[b:b+batch_size]) \n",
    "    print(mean_squared_error(y_valid, clf.predict(x_valid)))\n"
   ]
  },
  {
   "cell_type": "code",
   "execution_count": 42,
   "metadata": {},
   "outputs": [
    {
     "data": {
      "text/plain": [
       "array([[  991.95021114],\n",
       "       [ 1339.66921547],\n",
       "       [ 1188.94582579],\n",
       "       [   52.9657028 ],\n",
       "       [ 1163.69049472],\n",
       "       [ 1301.02448428],\n",
       "       [ 2790.23030409],\n",
       "       [ 1288.16902281],\n",
       "       [ 1382.06275143],\n",
       "       [  578.41844372],\n",
       "       [ 2365.68216637],\n",
       "       [ 1397.46207106],\n",
       "       [ 1267.91429117],\n",
       "       [  884.45704735],\n",
       "       [ 1343.90027326],\n",
       "       [  903.88099015],\n",
       "       [ 1047.13373301],\n",
       "       [ 2574.51279306],\n",
       "       [ 3162.91294828],\n",
       "       [ 2279.90649204],\n",
       "       [ 1888.06639555],\n",
       "       [ 1295.76210462],\n",
       "       [ 2569.78555134],\n",
       "       [  538.64906597],\n",
       "       [ 4475.89208724],\n",
       "       [ 1241.17478415],\n",
       "       [ 1240.10104918],\n",
       "       [ 1858.15394487],\n",
       "       [ 1248.43118901],\n",
       "       [ 2211.08830157],\n",
       "       [ 1826.05858498],\n",
       "       [  853.14326501],\n",
       "       [ 2324.22079855],\n",
       "       [ 1459.75941691],\n",
       "       [ 2367.21288216],\n",
       "       [ 1404.10230742],\n",
       "       [  248.40200265],\n",
       "       [  448.75921494],\n",
       "       [ 1721.58367804],\n",
       "       [ 2324.86166042],\n",
       "       [ 4415.2630536 ],\n",
       "       [ 1716.05589086],\n",
       "       [   15.64175823],\n",
       "       [ 1813.51014231],\n",
       "       [ 1074.85904574],\n",
       "       [ 2144.18049759],\n",
       "       [ 2742.14084014],\n",
       "       [ 1025.96628866],\n",
       "       [ 2562.83253294],\n",
       "       [ 1084.34602019],\n",
       "       [ 1009.77459009],\n",
       "       [  627.16102588],\n",
       "       [ 1609.7501246 ],\n",
       "       [ 2448.89436683],\n",
       "       [  902.42634559],\n",
       "       [ 3579.41520178],\n",
       "       [ 4478.04208098],\n",
       "       [ 1070.22084562],\n",
       "       [ 1589.48391113],\n",
       "       [ 1369.63574193],\n",
       "       [ 1150.56747939],\n",
       "       [  879.9493456 ],\n",
       "       [ 1156.35130077],\n",
       "       [ 2044.35611475],\n",
       "       [ 2560.47685286],\n",
       "       [  577.95962581],\n",
       "       [ 1183.97953752],\n",
       "       [  844.87747309],\n",
       "       [  323.32996536],\n",
       "       [  529.14230739],\n",
       "       [ 1670.47105041],\n",
       "       [ 3379.66330037],\n",
       "       [ 1074.79663725],\n",
       "       [ 4353.90052567],\n",
       "       [ 1338.60676253],\n",
       "       [ 1343.98578924],\n",
       "       [  991.71883537],\n",
       "       [  584.63050022],\n",
       "       [ 1598.10002618],\n",
       "       [ 3420.88883132],\n",
       "       [ 3257.63503295],\n",
       "       [ 2365.71363986],\n",
       "       [ 1589.79286446],\n",
       "       [ 2252.19309174],\n",
       "       [ 1116.27016823],\n",
       "       [  325.50872564],\n",
       "       [ 2436.72255141],\n",
       "       [ 3609.52654561],\n",
       "       [ 1387.64070168],\n",
       "       [ 1326.31089664],\n",
       "       [  432.39282617],\n",
       "       [ 1343.93442352],\n",
       "       [  750.60658909],\n",
       "       [ 1448.65690179],\n",
       "       [  812.52888437],\n",
       "       [ 1408.91148589],\n",
       "       [ 1092.83551301],\n",
       "       [  312.32354379],\n",
       "       [  983.05472583],\n",
       "       [  844.55665836]])"
      ]
     },
     "execution_count": 42,
     "metadata": {},
     "output_type": "execute_result"
    }
   ],
   "source": [
    "clf.predict(x_valid[:100])"
   ]
  },
  {
   "cell_type": "code",
   "execution_count": null,
   "metadata": {
    "collapsed": true
   },
   "outputs": [],
   "source": []
  }
 ],
 "metadata": {
  "kernelspec": {
   "display_name": "Python 3",
   "language": "python",
   "name": "python3"
  },
  "language_info": {
   "codemirror_mode": {
    "name": "ipython",
    "version": 3
   },
   "file_extension": ".py",
   "mimetype": "text/x-python",
   "name": "python",
   "nbconvert_exporter": "python",
   "pygments_lexer": "ipython3",
   "version": "3.5.3"
  }
 },
 "nbformat": 4,
 "nbformat_minor": 2
}
