{
 "cells": [
  {
   "cell_type": "code",
   "execution_count": 1,
   "metadata": {},
   "outputs": [],
   "source": [
    "from data_processor import DataProcessor\n",
    "import numpy as np\n",
    "import numpy as np\n",
    "import xgboost as xgb\n",
    "from sklearn.metrics import mean_squared_error\n",
    "import matplotlib.pyplot as plt "
   ]
  },
  {
   "cell_type": "code",
   "execution_count": 2,
   "metadata": {},
   "outputs": [],
   "source": [
    "def evaluate(model, x_valid, y_valid):\n",
    "    error = mean_squared_error(y_valid.ravel(), model.predict(x_valid))\n",
    "    var = np.var(y_valid.ravel())\n",
    "    #print(\"The MSE error is: \", error)\n",
    "    #print(\"The variance of the validation set is: \", var)\n",
    "    r_2 = 1 - error / var\n",
    "\n",
    "    #print(\"The model explians\" ,r_2 ,\" of the variance in data\")\n",
    "    return r_2\n",
    "    "
   ]
  },
  {
   "cell_type": "code",
   "execution_count": 3,
   "metadata": {},
   "outputs": [],
   "source": [
    "file_1 = \"../data/Train.csv\"\n",
    "file_2 = \"../data/additional_data/trainRoot_edited.csv\"\n",
    "\n",
    "processor = DataProcessor(file_1, file_2, test = False, minimal = True)\n",
    "x_train, x_valid, y_train, y_valid = processor.get_numpy_data(fillna = True, additional = True,\n",
    "                                                                            encode = True, np_split = True, enocde_user = False,\n",
    "                                                                            normalize = True, drop_ones = True)"
   ]
  },
  {
   "cell_type": "code",
   "execution_count": 4,
   "metadata": {},
   "outputs": [],
   "source": [
    "results = []"
   ]
  },
  {
   "cell_type": "code",
   "execution_count": null,
   "metadata": {},
   "outputs": [
    {
     "name": "stdout",
     "output_type": "stream",
     "text": [
      "[0]\tvalidation_0-rmse:866.486\n",
      "[0]\tvalidation_0-rmse:862.927\n",
      "[0]\tvalidation_0-rmse:863.843\n",
      "[0]\tvalidation_0-rmse:864.525\n",
      "[0]\tvalidation_0-rmse:864.846\n",
      "[0]\tvalidation_0-rmse:865.17\n",
      "[0]\tvalidation_0-rmse:865.191\n",
      "[0]\tvalidation_0-rmse:865.394\n",
      "[0]\tvalidation_0-rmse:865.246\n",
      "[0]\tvalidation_0-rmse:865.257\n",
      "[0]\tvalidation_0-rmse:865.301\n",
      "[0]\tvalidation_0-rmse:865.313\n"
     ]
    }
   ],
   "source": [
    "for depth in range (1, 100, 10): \n",
    "    for estimators in range(100, 10000, 500): \n",
    "        param_dist = {'objective':'reg:squarederror', 'n_estimators':estimators, 'max_depth':depth}\n",
    "        bst = xgb.XGBRFRegressor(**param_dist)\n",
    "        #print(\"=*=\"*20)\n",
    "        bst.fit(x_train, y_train.ravel(), eval_set=[(x_valid, y_valid)], verbose = True)\n",
    "        #print(\"depth = \",depth, \"estimators = \", estimators )\n",
    "        #results = bst.evals_result()\n",
    "        r_2 = evaluate(bst, x_valid, y_valid)\n",
    "        results.append((r_2, depth, estimators))\n",
    "print(results)"
   ]
  },
  {
   "cell_type": "code",
   "execution_count": null,
   "metadata": {},
   "outputs": [],
   "source": [
    "evaluate(bst, x_valid, y_valid)"
   ]
  },
  {
   "cell_type": "code",
   "execution_count": 9,
   "metadata": {},
   "outputs": [
    {
     "data": {
      "image/png": "[encoded data removed]",
      "text/plain": [
       "<matplotlib.figure.Figure at 0xd3aca03198>"
      ]
     },
     "metadata": {},
     "output_type": "display_data"
    }
   ],
   "source": [
    "plt.hist(y_train, bins = 100)\n",
    "plt.show()"
   ]
  },
  {
   "cell_type": "code",
   "execution_count": null,
   "metadata": {
    "collapsed": true
   },
   "outputs": [],
   "source": []
  }
 ],
 "metadata": {
  "kernelspec": {
   "display_name": "Python 3",
   "language": "python",
   "name": "python3"
  },
  "language_info": {
   "codemirror_mode": {
    "name": "ipython",
    "version": 3
   },
   "file_extension": ".py",
   "mimetype": "text/x-python",
   "name": "python",
   "nbconvert_exporter": "python",
   "pygments_lexer": "ipython3",
   "version": "3.7.4"
  }
 },
 "nbformat": 4,
 "nbformat_minor": 2
}
