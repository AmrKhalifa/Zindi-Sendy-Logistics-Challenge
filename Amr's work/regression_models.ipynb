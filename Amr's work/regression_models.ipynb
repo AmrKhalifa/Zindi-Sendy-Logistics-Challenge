{
 "cells": [
  {
   "cell_type": "code",
   "execution_count": 1,
   "metadata": {
    "collapsed": true
   },
   "outputs": [],
   "source": [
    "from data_processor import DataProcessor\n",
    "import numpy as np\n",
    "import numpy as np\n",
    "import xgboost as xgb\n",
    "from sklearn.metrics import mean_squared_error\n",
    "import matplotlib.pyplot as plt "
   ]
  },
  {
   "cell_type": "code",
   "execution_count": 2,
   "metadata": {
    "collapsed": true
   },
   "outputs": [],
   "source": [
    "def evaluate(model, x_valid, y_valid):\n",
    "    error = mean_squared_error(y_valid.ravel(), model.predict(x_valid))\n",
    "    var = np.var(y_valid.ravel())\n",
    "    print(\"The MSE error is: \", error)\n",
    "    print(\"The variance of the validation set is: \", var)\n",
    "    r_2 = 1 - error / var\n",
    "\n",
    "    print(\"The model explians\" ,r_2 ,\" of the variance in data\")"
   ]
  },
  {
   "cell_type": "code",
   "execution_count": 3,
   "metadata": {},
   "outputs": [],
   "source": [
    "file_1 = \"../data/Train.csv\"\n",
    "file_2 = \"../data/additional_data/trainRoot_edited.csv\"\n",
    "\n",
    "processor = DataProcessor(file_1, file_2, test = False, minimal = True)\n",
    "x_train, x_valid, y_train, y_valid = processor.get_numpy_data(fillna = True, additional = True,\n",
    "                                                                            encode = True, np_split = True, enocde_user = False,\n",
    "                                                                            normalize = True, drop_ones = True)"
   ]
  },
  {
   "cell_type": "code",
   "execution_count": 4,
   "metadata": {},
   "outputs": [
    {
     "name": "stdout",
     "output_type": "stream",
     "text": [
      "[0]\tvalidation_0-rmse:1712.12\n",
      "[1]\tvalidation_0-rmse:1582.38\n",
      "[2]\tvalidation_0-rmse:1468.6\n",
      "[3]\tvalidation_0-rmse:1367.91\n",
      "[4]\tvalidation_0-rmse:1281.37\n",
      "[5]\tvalidation_0-rmse:1205.46\n",
      "[6]\tvalidation_0-rmse:1139.95\n",
      "[7]\tvalidation_0-rmse:1083.76\n",
      "[8]\tvalidation_0-rmse:1035.37\n",
      "[9]\tvalidation_0-rmse:994.502\n",
      "[10]\tvalidation_0-rmse:959.269\n",
      "[11]\tvalidation_0-rmse:929.664\n",
      "[12]\tvalidation_0-rmse:904.862\n",
      "[13]\tvalidation_0-rmse:883.579\n",
      "[14]\tvalidation_0-rmse:865.757\n",
      "[15]\tvalidation_0-rmse:850.967\n",
      "[16]\tvalidation_0-rmse:838.214\n",
      "[17]\tvalidation_0-rmse:827.861\n",
      "[18]\tvalidation_0-rmse:818.651\n",
      "[19]\tvalidation_0-rmse:811.074\n",
      "[20]\tvalidation_0-rmse:805.07\n",
      "[21]\tvalidation_0-rmse:799.516\n",
      "[22]\tvalidation_0-rmse:795.261\n",
      "[23]\tvalidation_0-rmse:791.309\n",
      "[24]\tvalidation_0-rmse:787.932\n",
      "[25]\tvalidation_0-rmse:785.336\n",
      "[26]\tvalidation_0-rmse:783.178\n",
      "[27]\tvalidation_0-rmse:781.053\n",
      "[28]\tvalidation_0-rmse:779.326\n",
      "[29]\tvalidation_0-rmse:778.003\n",
      "[30]\tvalidation_0-rmse:776.625\n",
      "[31]\tvalidation_0-rmse:775.737\n",
      "[32]\tvalidation_0-rmse:774.552\n",
      "[33]\tvalidation_0-rmse:773.84\n",
      "[34]\tvalidation_0-rmse:772.964\n",
      "[35]\tvalidation_0-rmse:772.195\n",
      "[36]\tvalidation_0-rmse:771.717\n",
      "[37]\tvalidation_0-rmse:771.192\n",
      "[38]\tvalidation_0-rmse:770.702\n",
      "[39]\tvalidation_0-rmse:770.216\n",
      "[40]\tvalidation_0-rmse:769.784\n",
      "[41]\tvalidation_0-rmse:769.432\n",
      "[42]\tvalidation_0-rmse:769.018\n",
      "[43]\tvalidation_0-rmse:768.864\n",
      "[44]\tvalidation_0-rmse:768.854\n",
      "[45]\tvalidation_0-rmse:768.46\n",
      "[46]\tvalidation_0-rmse:768.224\n",
      "[47]\tvalidation_0-rmse:768.265\n",
      "[48]\tvalidation_0-rmse:768.063\n",
      "[49]\tvalidation_0-rmse:767.88\n",
      "[50]\tvalidation_0-rmse:767.612\n",
      "[51]\tvalidation_0-rmse:767.538\n",
      "[52]\tvalidation_0-rmse:767.612\n",
      "[53]\tvalidation_0-rmse:767.473\n",
      "[54]\tvalidation_0-rmse:767.31\n",
      "[55]\tvalidation_0-rmse:767.1\n",
      "[56]\tvalidation_0-rmse:766.942\n",
      "[57]\tvalidation_0-rmse:767.029\n",
      "[58]\tvalidation_0-rmse:766.88\n",
      "[59]\tvalidation_0-rmse:766.755\n",
      "[60]\tvalidation_0-rmse:766.665\n",
      "[61]\tvalidation_0-rmse:766.533\n",
      "[62]\tvalidation_0-rmse:766.377\n",
      "[63]\tvalidation_0-rmse:766.282\n",
      "[64]\tvalidation_0-rmse:766.375\n",
      "[65]\tvalidation_0-rmse:766.276\n",
      "[66]\tvalidation_0-rmse:766.352\n",
      "[67]\tvalidation_0-rmse:766.214\n",
      "[68]\tvalidation_0-rmse:766.074\n",
      "[69]\tvalidation_0-rmse:766.034\n",
      "[70]\tvalidation_0-rmse:765.901\n",
      "[71]\tvalidation_0-rmse:765.871\n",
      "[72]\tvalidation_0-rmse:765.695\n",
      "[73]\tvalidation_0-rmse:765.761\n",
      "[74]\tvalidation_0-rmse:765.647\n",
      "[75]\tvalidation_0-rmse:765.565\n",
      "[76]\tvalidation_0-rmse:765.654\n",
      "[77]\tvalidation_0-rmse:765.568\n",
      "[78]\tvalidation_0-rmse:765.434\n",
      "[79]\tvalidation_0-rmse:765.317\n",
      "[80]\tvalidation_0-rmse:765.293\n",
      "[81]\tvalidation_0-rmse:765.2\n",
      "[82]\tvalidation_0-rmse:765.125\n",
      "[83]\tvalidation_0-rmse:765.187\n",
      "[84]\tvalidation_0-rmse:765.093\n",
      "[85]\tvalidation_0-rmse:765.027\n",
      "[86]\tvalidation_0-rmse:766.481\n",
      "[87]\tvalidation_0-rmse:766.242\n",
      "[88]\tvalidation_0-rmse:766.146\n",
      "[89]\tvalidation_0-rmse:766.058\n",
      "[90]\tvalidation_0-rmse:766.048\n",
      "[91]\tvalidation_0-rmse:766.158\n",
      "[92]\tvalidation_0-rmse:766.158\n",
      "[93]\tvalidation_0-rmse:766.306\n",
      "[94]\tvalidation_0-rmse:765.845\n",
      "[95]\tvalidation_0-rmse:765.757\n",
      "[96]\tvalidation_0-rmse:765.679\n",
      "[97]\tvalidation_0-rmse:765.627\n",
      "[98]\tvalidation_0-rmse:766.232\n",
      "[99]\tvalidation_0-rmse:766.173\n"
     ]
    }
   ],
   "source": [
    "param_dist = {'objective':'reg:squarederror', 'n_estimators':100, 'max_depth':1}\n",
    "bst = xgb.XGBModel(**param_dist)\n",
    "bst.fit(x_train, y_train.ravel(), eval_set=[(x_valid, y_valid)], verbose = True)\n",
    "preds = bst.predict(x_valid)"
   ]
  },
  {
   "cell_type": "code",
   "execution_count": 5,
   "metadata": {},
   "outputs": [
    {
     "name": "stdout",
     "output_type": "stream",
     "text": [
      "The MSE error is:  587021.695699\n",
      "The variance of the validation set is:  905135.302398\n",
      "The model explians 0.351454203429  of the variance in data\n"
     ]
    }
   ],
   "source": [
    "evaluate(bst, x_valid, y_valid)"
   ]
  },
  {
   "cell_type": "code",
   "execution_count": 6,
   "metadata": {},
   "outputs": [
    {
     "data": {
      "image/png": "[encoded data removed]",
      "text/plain": [
       "<matplotlib.figure.Figure at 0x553feb2e48>"
      ]
     },
     "metadata": {},
     "output_type": "display_data"
    }
   ],
   "source": [
    "plt.hist(y_train, bins = 100)\n",
    "plt.show()"
   ]
  },
  {
   "cell_type": "code",
   "execution_count": null,
   "metadata": {
    "collapsed": true
   },
   "outputs": [],
   "source": []
  }
 ],
 "metadata": {
  "kernelspec": {
   "display_name": "Python 3",
   "language": "python",
   "name": "python3"
  },
  "language_info": {
   "codemirror_mode": {
    "name": "ipython",
    "version": 3
   },
   "file_extension": ".py",
   "mimetype": "text/x-python",
   "name": "python",
   "nbconvert_exporter": "python",
   "pygments_lexer": "ipython3",
   "version": "3.5.3"
  }
 },
 "nbformat": 4,
 "nbformat_minor": 2
}
