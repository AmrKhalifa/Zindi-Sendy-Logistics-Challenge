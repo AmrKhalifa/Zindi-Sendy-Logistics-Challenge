{
 "cells": [
  {
   "cell_type": "code",
   "execution_count": 1,
   "metadata": {
    "collapsed": true
   },
   "outputs": [],
   "source": [
    "from data_processor import DataProcessor\n",
    "import numpy as np\n",
    "import numpy as np\n",
    "import xgboost as xgb\n",
    "from sklearn.metrics import mean_squared_error\n",
    "import matplotlib.pyplot as plt "
   ]
  },
  {
   "cell_type": "code",
   "execution_count": 2,
   "metadata": {
    "collapsed": true
   },
   "outputs": [],
   "source": [
    "def evaluate(model, x_valid, y_valid):\n",
    "    error = mean_squared_error(y_valid.ravel(), model.predict(x_valid))\n",
    "    var = np.var(y_valid.ravel())\n",
    "    print(\"The MSE error is: \", error)\n",
    "    print(\"The variance of the validation set is: \", var)\n",
    "    r_2 = 1 - error / var\n",
    "\n",
    "    print(\"The model explians\" ,r_2 ,\" of the variance in data\")"
   ]
  },
  {
   "cell_type": "code",
   "execution_count": 3,
   "metadata": {},
   "outputs": [],
   "source": [
    "file_1 = \"../data/Train.csv\"\n",
    "file_2 = \"../data/additional_data/trainRoot_edited.csv\"\n",
    "\n",
    "processor = DataProcessor(file_1, file_2, test = False, minimal = True)\n",
    "x_train, x_valid, y_train, y_valid = processor.get_numpy_data(fillna = True, additional = True,\n",
    "                                                                            encode = True, np_split = True, enocde_user = False,\n",
    "                                                                            normalize = True, drop_ones = True)"
   ]
  },
  {
   "cell_type": "code",
   "execution_count": 14,
   "metadata": {},
   "outputs": [
    {
     "name": "stdout",
     "output_type": "stream",
     "text": [
      "[0]\tvalidation_0-rmse:1742.03\n",
      "[1]\tvalidation_0-rmse:1611.01\n",
      "[2]\tvalidation_0-rmse:1495.23\n",
      "[3]\tvalidation_0-rmse:1395.75\n",
      "[4]\tvalidation_0-rmse:1307.06\n",
      "[5]\tvalidation_0-rmse:1231.98\n",
      "[6]\tvalidation_0-rmse:1164.83\n",
      "[7]\tvalidation_0-rmse:1108.95\n",
      "[8]\tvalidation_0-rmse:1059.39\n",
      "[9]\tvalidation_0-rmse:1018.06\n",
      "[10]\tvalidation_0-rmse:981.759\n",
      "[11]\tvalidation_0-rmse:951.883\n",
      "[12]\tvalidation_0-rmse:926.18\n",
      "[13]\tvalidation_0-rmse:903.7\n",
      "[14]\tvalidation_0-rmse:885.379\n",
      "[15]\tvalidation_0-rmse:869.543\n",
      "[16]\tvalidation_0-rmse:855.691\n",
      "[17]\tvalidation_0-rmse:844.656\n",
      "[18]\tvalidation_0-rmse:834.763\n",
      "[19]\tvalidation_0-rmse:826.977\n",
      "[20]\tvalidation_0-rmse:819.747\n",
      "[21]\tvalidation_0-rmse:813.855\n",
      "[22]\tvalidation_0-rmse:809.016\n",
      "[23]\tvalidation_0-rmse:805.045\n",
      "[24]\tvalidation_0-rmse:801.412\n",
      "[25]\tvalidation_0-rmse:798.1\n",
      "[26]\tvalidation_0-rmse:795.629\n",
      "[27]\tvalidation_0-rmse:793.345\n",
      "[28]\tvalidation_0-rmse:791.334\n",
      "[29]\tvalidation_0-rmse:789.732\n",
      "[30]\tvalidation_0-rmse:788.213\n",
      "[31]\tvalidation_0-rmse:786.973\n",
      "[32]\tvalidation_0-rmse:785.692\n",
      "[33]\tvalidation_0-rmse:784.798\n",
      "[34]\tvalidation_0-rmse:784.001\n",
      "[35]\tvalidation_0-rmse:783.179\n",
      "[36]\tvalidation_0-rmse:782.281\n",
      "[37]\tvalidation_0-rmse:781.62\n",
      "[38]\tvalidation_0-rmse:781.09\n",
      "[39]\tvalidation_0-rmse:780.554\n",
      "[40]\tvalidation_0-rmse:780.139\n",
      "[41]\tvalidation_0-rmse:779.931\n",
      "[42]\tvalidation_0-rmse:779.43\n",
      "[43]\tvalidation_0-rmse:779.065\n",
      "[44]\tvalidation_0-rmse:778.62\n",
      "[45]\tvalidation_0-rmse:778.537\n",
      "[46]\tvalidation_0-rmse:778.185\n",
      "[47]\tvalidation_0-rmse:778.025\n",
      "[48]\tvalidation_0-rmse:777.737\n",
      "[49]\tvalidation_0-rmse:777.507\n",
      "[50]\tvalidation_0-rmse:777.497\n",
      "[51]\tvalidation_0-rmse:777.365\n",
      "[52]\tvalidation_0-rmse:777.257\n",
      "[53]\tvalidation_0-rmse:776.984\n",
      "[54]\tvalidation_0-rmse:776.773\n",
      "[55]\tvalidation_0-rmse:776.797\n",
      "[56]\tvalidation_0-rmse:776.653\n",
      "[57]\tvalidation_0-rmse:776.579\n",
      "[58]\tvalidation_0-rmse:776.578\n",
      "[59]\tvalidation_0-rmse:776.402\n",
      "[60]\tvalidation_0-rmse:776.445\n",
      "[61]\tvalidation_0-rmse:776.336\n",
      "[62]\tvalidation_0-rmse:776.094\n",
      "[63]\tvalidation_0-rmse:775.936\n",
      "[64]\tvalidation_0-rmse:775.921\n",
      "[65]\tvalidation_0-rmse:775.919\n",
      "[66]\tvalidation_0-rmse:775.862\n",
      "[67]\tvalidation_0-rmse:775.767\n",
      "[68]\tvalidation_0-rmse:775.796\n",
      "[69]\tvalidation_0-rmse:775.73\n",
      "[70]\tvalidation_0-rmse:775.581\n",
      "[71]\tvalidation_0-rmse:775.571\n",
      "[72]\tvalidation_0-rmse:775.531\n",
      "[73]\tvalidation_0-rmse:775.405\n",
      "[74]\tvalidation_0-rmse:775.293\n",
      "[75]\tvalidation_0-rmse:775.332\n",
      "[76]\tvalidation_0-rmse:775.239\n",
      "[77]\tvalidation_0-rmse:775.223\n",
      "[78]\tvalidation_0-rmse:775.226\n",
      "[79]\tvalidation_0-rmse:775.153\n",
      "[80]\tvalidation_0-rmse:775.129\n",
      "[81]\tvalidation_0-rmse:774.962\n",
      "[82]\tvalidation_0-rmse:774.964\n",
      "[83]\tvalidation_0-rmse:774.903\n",
      "[84]\tvalidation_0-rmse:774.902\n",
      "[85]\tvalidation_0-rmse:774.793\n",
      "[86]\tvalidation_0-rmse:774.788\n",
      "[87]\tvalidation_0-rmse:774.695\n",
      "[88]\tvalidation_0-rmse:774.609\n",
      "[89]\tvalidation_0-rmse:774.61\n",
      "[90]\tvalidation_0-rmse:774.653\n",
      "[91]\tvalidation_0-rmse:774.63\n",
      "[92]\tvalidation_0-rmse:774.561\n",
      "[93]\tvalidation_0-rmse:774.607\n",
      "[94]\tvalidation_0-rmse:774.497\n",
      "[95]\tvalidation_0-rmse:774.483\n",
      "[96]\tvalidation_0-rmse:774.541\n",
      "[97]\tvalidation_0-rmse:774.532\n",
      "[98]\tvalidation_0-rmse:774.439\n",
      "[99]\tvalidation_0-rmse:774.499\n"
     ]
    }
   ],
   "source": [
    "param_dist = {'objective':'reg:squarederror', 'n_estimators':100, 'max_depth':1}\n",
    "bst = xgb.XGBModel(**param_dist)\n",
    "bst.fit(x_train, y_train.ravel(), eval_set=[(x_valid, y_valid)], verbose = True)"
   ]
  },
  {
   "cell_type": "code",
   "execution_count": 15,
   "metadata": {},
   "outputs": [
    {
     "name": "stdout",
     "output_type": "stream",
     "text": [
      "The MSE error is:  599849.963074\n",
      "The variance of the validation set is:  931876.12059\n",
      "The model explians 0.356298600404  of the variance in data\n"
     ]
    }
   ],
   "source": [
    "evaluate(bst, x_valid, y_valid)"
   ]
  },
  {
   "cell_type": "code",
   "execution_count": 9,
   "metadata": {},
   "outputs": [
    {
     "data": {
      "image/png": "[encoded data removed]",
      "text/plain": [
       "<matplotlib.figure.Figure at 0xd3aca03198>"
      ]
     },
     "metadata": {},
     "output_type": "display_data"
    }
   ],
   "source": [
    "plt.hist(y_train, bins = 100)\n",
    "plt.show()"
   ]
  },
  {
   "cell_type": "code",
   "execution_count": null,
   "metadata": {
    "collapsed": true
   },
   "outputs": [],
   "source": []
  }
 ],
 "metadata": {
  "kernelspec": {
   "display_name": "Python 3",
   "language": "python",
   "name": "python3"
  },
  "language_info": {
   "codemirror_mode": {
    "name": "ipython",
    "version": 3
   },
   "file_extension": ".py",
   "mimetype": "text/x-python",
   "name": "python",
   "nbconvert_exporter": "python",
   "pygments_lexer": "ipython3",
   "version": "3.5.3"
  }
 },
 "nbformat": 4,
 "nbformat_minor": 2
}
