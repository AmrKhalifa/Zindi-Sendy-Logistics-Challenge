{
 "cells": [
  {
   "cell_type": "code",
   "execution_count": 14,
   "metadata": {},
   "outputs": [],
   "source": [
    "from data_processor import DataProcessor\n",
    "import numpy as np\n",
    "import numpy as np\n",
    "import xgboost as xgb\n",
    "from sklearn.metrics import mean_squared_error"
   ]
  },
  {
   "cell_type": "code",
   "execution_count": 5,
   "metadata": {},
   "outputs": [],
   "source": [
    "def evaluate(model, x_valid, y_valid):\n",
    "    error = mean_squared_error(y_valid.ravel(), model.predict(x_valid))\n",
    "    var = np.var(y_valid.ravel())\n",
    "    print(\"The MSE error is: \", error)\n",
    "    print(\"The variance of the validation set is: \", var)\n",
    "    r_2 = 1 - error / var\n",
    "\n",
    "    print(\"The model explians\" ,r_2 ,\" of the variance in data\")"
   ]
  },
  {
   "cell_type": "code",
   "execution_count": 9,
   "metadata": {},
   "outputs": [],
   "source": [
    "processor = DataProcessor(\"../data/Train.csv\", test = False, minimal = True)\n",
    "x_train, x_valid, y_train, y_valid = processor.get_numpy_data(True, True, True, False, True)"
   ]
  },
  {
   "cell_type": "code",
   "execution_count": 12,
   "metadata": {},
   "outputs": [
    {
     "name": "stdout",
     "output_type": "stream",
     "text": [
      "[0]\tvalidation_0-rmse:1688.78\tvalidation_1-rmse:1715.04\n",
      "[1]\tvalidation_0-rmse:1557.47\tvalidation_1-rmse:1591.15\n",
      "[2]\tvalidation_0-rmse:1442.13\tvalidation_1-rmse:1480.84\n",
      "[3]\tvalidation_0-rmse:1341.25\tvalidation_1-rmse:1383.9\n",
      "[4]\tvalidation_0-rmse:1253.45\tvalidation_1-rmse:1299.49\n",
      "[5]\tvalidation_0-rmse:1177.25\tvalidation_1-rmse:1223.34\n",
      "[6]\tvalidation_0-rmse:1111.7\tvalidation_1-rmse:1162.38\n",
      "[7]\tvalidation_0-rmse:1055.18\tvalidation_1-rmse:1105.8\n",
      "[8]\tvalidation_0-rmse:1006.58\tvalidation_1-rmse:1063.42\n",
      "[9]\tvalidation_0-rmse:965.497\tvalidation_1-rmse:1025.31\n",
      "[10]\tvalidation_0-rmse:930.541\tvalidation_1-rmse:996.46\n",
      "[11]\tvalidation_0-rmse:900.897\tvalidation_1-rmse:967.932\n",
      "[12]\tvalidation_0-rmse:875.873\tvalidation_1-rmse:941.696\n",
      "[13]\tvalidation_0-rmse:855.151\tvalidation_1-rmse:924.741\n",
      "[14]\tvalidation_0-rmse:837.501\tvalidation_1-rmse:908.205\n",
      "[15]\tvalidation_0-rmse:822.922\tvalidation_1-rmse:896.548\n",
      "[16]\tvalidation_0-rmse:810.311\tvalidation_1-rmse:885.432\n",
      "[17]\tvalidation_0-rmse:799.686\tvalidation_1-rmse:873.483\n",
      "[18]\tvalidation_0-rmse:791.149\tvalidation_1-rmse:867.292\n",
      "[19]\tvalidation_0-rmse:783.525\tvalidation_1-rmse:861.081\n",
      "[20]\tvalidation_0-rmse:776.99\tvalidation_1-rmse:857.453\n",
      "[21]\tvalidation_0-rmse:771.456\tvalidation_1-rmse:853.937\n",
      "[22]\tvalidation_0-rmse:766.39\tvalidation_1-rmse:851.818\n",
      "[23]\tvalidation_0-rmse:762.237\tvalidation_1-rmse:847.916\n",
      "[24]\tvalidation_0-rmse:758.789\tvalidation_1-rmse:845.529\n",
      "[25]\tvalidation_0-rmse:756.048\tvalidation_1-rmse:842.985\n",
      "[26]\tvalidation_0-rmse:753.563\tvalidation_1-rmse:839.56\n",
      "[27]\tvalidation_0-rmse:751.066\tvalidation_1-rmse:839.207\n",
      "[28]\tvalidation_0-rmse:748.736\tvalidation_1-rmse:837.617\n",
      "[29]\tvalidation_0-rmse:746.963\tvalidation_1-rmse:836.413\n",
      "[30]\tvalidation_0-rmse:745.232\tvalidation_1-rmse:835.31\n",
      "[31]\tvalidation_0-rmse:743.633\tvalidation_1-rmse:834.553\n",
      "[32]\tvalidation_0-rmse:741.887\tvalidation_1-rmse:833.91\n",
      "[33]\tvalidation_0-rmse:740.432\tvalidation_1-rmse:833.427\n",
      "[34]\tvalidation_0-rmse:739.015\tvalidation_1-rmse:832.923\n",
      "[35]\tvalidation_0-rmse:738.039\tvalidation_1-rmse:832.296\n",
      "[36]\tvalidation_0-rmse:736.614\tvalidation_1-rmse:833.491\n",
      "[37]\tvalidation_0-rmse:735.201\tvalidation_1-rmse:832.941\n",
      "[38]\tvalidation_0-rmse:734.38\tvalidation_1-rmse:833.383\n",
      "[39]\tvalidation_0-rmse:732.568\tvalidation_1-rmse:834.363\n",
      "[40]\tvalidation_0-rmse:731.51\tvalidation_1-rmse:833.555\n",
      "[41]\tvalidation_0-rmse:730.396\tvalidation_1-rmse:833.23\n",
      "[42]\tvalidation_0-rmse:728.786\tvalidation_1-rmse:835.376\n",
      "[43]\tvalidation_0-rmse:727.279\tvalidation_1-rmse:835.073\n",
      "[44]\tvalidation_0-rmse:725.955\tvalidation_1-rmse:834.795\n",
      "[45]\tvalidation_0-rmse:724.844\tvalidation_1-rmse:834.195\n",
      "[46]\tvalidation_0-rmse:724.223\tvalidation_1-rmse:834.26\n",
      "[47]\tvalidation_0-rmse:723.656\tvalidation_1-rmse:834.109\n",
      "[48]\tvalidation_0-rmse:722.214\tvalidation_1-rmse:834.57\n",
      "[49]\tvalidation_0-rmse:721.69\tvalidation_1-rmse:834.592\n",
      "[50]\tvalidation_0-rmse:720.422\tvalidation_1-rmse:834.875\n",
      "[51]\tvalidation_0-rmse:719.511\tvalidation_1-rmse:835.178\n",
      "[52]\tvalidation_0-rmse:718.618\tvalidation_1-rmse:834.697\n",
      "[53]\tvalidation_0-rmse:716.885\tvalidation_1-rmse:834.888\n",
      "[54]\tvalidation_0-rmse:716.098\tvalidation_1-rmse:834.437\n",
      "[55]\tvalidation_0-rmse:714.806\tvalidation_1-rmse:834.534\n",
      "[56]\tvalidation_0-rmse:713.117\tvalidation_1-rmse:836.296\n",
      "[57]\tvalidation_0-rmse:711.933\tvalidation_1-rmse:837.837\n",
      "[58]\tvalidation_0-rmse:710.909\tvalidation_1-rmse:837.613\n",
      "[59]\tvalidation_0-rmse:709.651\tvalidation_1-rmse:837.87\n",
      "[60]\tvalidation_0-rmse:708.829\tvalidation_1-rmse:839.811\n",
      "[61]\tvalidation_0-rmse:708.366\tvalidation_1-rmse:839.825\n",
      "[62]\tvalidation_0-rmse:707.254\tvalidation_1-rmse:839.345\n",
      "[63]\tvalidation_0-rmse:706.293\tvalidation_1-rmse:839.922\n",
      "[64]\tvalidation_0-rmse:705.612\tvalidation_1-rmse:841.389\n",
      "[65]\tvalidation_0-rmse:704.536\tvalidation_1-rmse:841.76\n",
      "[66]\tvalidation_0-rmse:702.783\tvalidation_1-rmse:840.868\n",
      "[67]\tvalidation_0-rmse:702.161\tvalidation_1-rmse:840.901\n",
      "[68]\tvalidation_0-rmse:701.084\tvalidation_1-rmse:840.199\n",
      "[69]\tvalidation_0-rmse:700.676\tvalidation_1-rmse:840.213\n",
      "[70]\tvalidation_0-rmse:699.496\tvalidation_1-rmse:841.711\n",
      "[71]\tvalidation_0-rmse:698.578\tvalidation_1-rmse:841.283\n",
      "[72]\tvalidation_0-rmse:697.582\tvalidation_1-rmse:840.624\n",
      "[73]\tvalidation_0-rmse:696.696\tvalidation_1-rmse:840.203\n",
      "[74]\tvalidation_0-rmse:695.637\tvalidation_1-rmse:839.877\n",
      "[75]\tvalidation_0-rmse:695.206\tvalidation_1-rmse:839.718\n",
      "[76]\tvalidation_0-rmse:694.381\tvalidation_1-rmse:839.726\n",
      "[77]\tvalidation_0-rmse:694.046\tvalidation_1-rmse:839.859\n",
      "[78]\tvalidation_0-rmse:693.145\tvalidation_1-rmse:840.16\n",
      "[79]\tvalidation_0-rmse:692.189\tvalidation_1-rmse:841.969\n",
      "[80]\tvalidation_0-rmse:691.147\tvalidation_1-rmse:841.703\n",
      "[81]\tvalidation_0-rmse:690.434\tvalidation_1-rmse:841.65\n",
      "[82]\tvalidation_0-rmse:689.585\tvalidation_1-rmse:841.465\n",
      "[83]\tvalidation_0-rmse:688.968\tvalidation_1-rmse:841.658\n",
      "[84]\tvalidation_0-rmse:688.672\tvalidation_1-rmse:842.188\n",
      "[85]\tvalidation_0-rmse:687.852\tvalidation_1-rmse:842.446\n",
      "[86]\tvalidation_0-rmse:686.809\tvalidation_1-rmse:841.892\n",
      "[87]\tvalidation_0-rmse:685.521\tvalidation_1-rmse:842.101\n",
      "[88]\tvalidation_0-rmse:684.378\tvalidation_1-rmse:842.079\n",
      "[89]\tvalidation_0-rmse:683.752\tvalidation_1-rmse:842.191\n",
      "[90]\tvalidation_0-rmse:682.777\tvalidation_1-rmse:844.582\n",
      "[91]\tvalidation_0-rmse:681.862\tvalidation_1-rmse:844.491\n",
      "[92]\tvalidation_0-rmse:681.285\tvalidation_1-rmse:844.685\n",
      "[93]\tvalidation_0-rmse:680.552\tvalidation_1-rmse:844.416\n",
      "[94]\tvalidation_0-rmse:679.715\tvalidation_1-rmse:843.768\n",
      "[95]\tvalidation_0-rmse:679.07\tvalidation_1-rmse:844.239\n",
      "[96]\tvalidation_0-rmse:678.565\tvalidation_1-rmse:844.285\n",
      "[97]\tvalidation_0-rmse:678.067\tvalidation_1-rmse:844.151\n",
      "[98]\tvalidation_0-rmse:677.232\tvalidation_1-rmse:844.091\n",
      "[99]\tvalidation_0-rmse:676.993\tvalidation_1-rmse:844.245\n"
     ]
    }
   ],
   "source": [
    "param_dist = {'objective':'reg:squarederror', 'n_estimators':100, 'max_depth':5}\n",
    "num_round = 50\n",
    "bst = xgb.XGBModel(**param_dist)\n",
    "bst.fit(x_train, y_train.ravel(), eval_set=[(x_train, y_train), (x_valid, y_valid)], verbose = True)\n",
    "preds = bst.predict(x_valid)"
   ]
  },
  {
   "cell_type": "code",
   "execution_count": 15,
   "metadata": {},
   "outputs": [
    {
     "name": "stdout",
     "output_type": "stream",
     "text": [
      "The MSE error is:  712749.521016\n",
      "The variance of the validation set is:  1004415.40138\n",
      "The model explians 0.290383719685  of the variance in data\n"
     ]
    }
   ],
   "source": [
    "evaluate(bst, x_valid, y_valid)"
   ]
  },
  {
   "cell_type": "code",
   "execution_count": null,
   "metadata": {
    "collapsed": true
   },
   "outputs": [],
   "source": []
  }
 ],
 "metadata": {
  "kernelspec": {
   "display_name": "Python 3",
   "language": "python",
   "name": "python3"
  },
  "language_info": {
   "codemirror_mode": {
    "name": "ipython",
    "version": 3
   },
   "file_extension": ".py",
   "mimetype": "text/x-python",
   "name": "python",
   "nbconvert_exporter": "python",
   "pygments_lexer": "ipython3",
   "version": "3.5.3"
  }
 },
 "nbformat": 4,
 "nbformat_minor": 2
}
