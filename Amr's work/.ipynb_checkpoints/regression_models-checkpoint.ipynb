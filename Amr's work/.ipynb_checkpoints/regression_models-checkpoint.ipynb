{
 "cells": [
  {
   "cell_type": "code",
   "execution_count": 35,
   "metadata": {},
   "outputs": [],
   "source": [
    "from data_processor import DataProcessor\n",
    "from sklearn.metrics import mean_squared_error\n",
    "from sklearn.ensemble import GradientBoostingRegressor\n",
    "from sklearn.kernel_ridge import KernelRidge\n",
    "from sklearn.linear_model import SGDRegressor\n",
    "import numpy as np\n",
    "import xgboost"
   ]
  },
  {
   "cell_type": "code",

   "execution_count": 3,
   "metadata": {},
   "outputs": [],
   "source": [
    "processor = DataProcessor(\"../data/Train.csv\", test = False, minimal = True)\n",
    "x_train, x_valid, y_train, y_valid = processor.get_numpy_data(True, True, True, False, True)"
   ]
  },
  {
   "cell_type": "code",

   "execution_count": 4,
   "metadata": {},
   "outputs": [],
   "source": [
    "batch_size = 512"
   ]
  },
  {
   "cell_type": "code",
   "execution_count": 9,

   "metadata": {},
   "outputs": [],
   "source": [
    "def evaluate(model, x_valid, y_valid): \n",
    "    error = mean_squared_error(y_valid.ravel(), model.predict(x_valid))\n",
    "    var = np.var(y_valid.ravel())\n",
    "    print(\"The MSE error is: \", error)\n",
    "    print(\"The variance of the validation set is: \", var)\n",
    "    r_2 = 1 - error / var \n",
    "\n",
    "    print(\"The model explians \" ,r_2 , \" of the variance in data\")"
   ]
  },
  {
   "cell_type": "code",
   "execution_count": 10,
   "metadata": {},
   "outputs": [],
   "source": [
    "# est = GradientBoostingRegressor(n_estimators=100, learning_rate=0.01,\n",
    "#                                 max_depth=100, random_state=0, loss='ls')\n",
    "# for b in range(0, len(x_train), batch_size):\n",
    "#     est.fit(x_train[b:b+batch_size], y_train[b:b+batch_size]) \n",
    "#     print(mean_squared_error(y_valid, est.predict(x_valid)))\n"
   ]
  },
  {
   "cell_type": "code",
   "execution_count": 11,
   "metadata": {},
   "outputs": [],
   "source": [
    "batch_size = 512"
   ]
  },
  {
   "cell_type": "code",
   "execution_count": 12,
   "metadata": {},
   "outputs": [],
   "source": [
    "# reg = KernelRidge(alpha=.01, kernel = \"linear\")\n",
    "\n",
    "# for b in range(0, len(x_train), batch_size):\n",
    "#     reg.fit(x_train[b:b+batch_size], y_train[b:b+batch_size]) \n",
    "#     print(mean_squared_error(y_valid.ravel(), reg.predict(x_valid)))\n"
   ]
  },
  {
   "cell_type": "code",
   "execution_count": 13,
   "metadata": {},
   "outputs": [],
   "source": [
    "# reg.predict(x_valid[:100])"
   ]
  },
  {
   "cell_type": "code",
   "execution_count": 14,
   "metadata": {},
   "outputs": [],
   "source": [
    "# processor = DataProcessor(\"../data/Test.csv\", test = True)\n",
    "# x_test = processor.get_numpy_data(True, True, True, False, True)"
   ]
  },
  {
   "cell_type": "code",
   "execution_count": 40,
   "metadata": {},
   "outputs": [
    {
     "name": "stdout",
     "output_type": "stream",
     "text": [
      "[0]\tvalidation_0-rmse:1700.17\tvalidation_1-rmse:1695.35\n",
      "[1]\tvalidation_0-rmse:1569.26\tvalidation_1-rmse:1572.56\n",
      "[2]\tvalidation_0-rmse:1454.56\tvalidation_1-rmse:1460.66\n",
      "[3]\tvalidation_0-rmse:1354.26\tvalidation_1-rmse:1360.11\n",
      "[4]\tvalidation_0-rmse:1266.86\tvalidation_1-rmse:1273.2\n",
      "[5]\tvalidation_0-rmse:1191.15\tvalidation_1-rmse:1205.32\n",
      "[6]\tvalidation_0-rmse:1126.02\tvalidation_1-rmse:1142.45\n",
      "[7]\tvalidation_0-rmse:1070.07\tvalidation_1-rmse:1085.6\n",
      "[8]\tvalidation_0-rmse:1022.41\tvalidation_1-rmse:1039.95\n",
      "[9]\tvalidation_0-rmse:981.92\tvalidation_1-rmse:1001.05\n",
      "[10]\tvalidation_0-rmse:947.422\tvalidation_1-rmse:967.873\n",
      "[11]\tvalidation_0-rmse:918.159\tvalidation_1-rmse:941.528\n",
      "[12]\tvalidation_0-rmse:893.309\tvalidation_1-rmse:919.379\n",
      "[13]\tvalidation_0-rmse:872.708\tvalidation_1-rmse:900.057\n",
      "[14]\tvalidation_0-rmse:854.943\tvalidation_1-rmse:884.433\n",
      "[15]\tvalidation_0-rmse:840.355\tvalidation_1-rmse:871.539\n",
      "[16]\tvalidation_0-rmse:827.729\tvalidation_1-rmse:861.361\n",
      "[17]\tvalidation_0-rmse:817.529\tvalidation_1-rmse:849.21\n",
      "[18]\tvalidation_0-rmse:808.922\tvalidation_1-rmse:840.469\n",
      "[19]\tvalidation_0-rmse:801.351\tvalidation_1-rmse:832.475\n",
      "[20]\tvalidation_0-rmse:795.042\tvalidation_1-rmse:826.543\n",
      "[21]\tvalidation_0-rmse:789.628\tvalidation_1-rmse:820.677\n",
      "[22]\tvalidation_0-rmse:785.139\tvalidation_1-rmse:816.881\n",
      "[23]\tvalidation_0-rmse:781.226\tvalidation_1-rmse:813.017\n",
      "[24]\tvalidation_0-rmse:777.852\tvalidation_1-rmse:807.413\n",
      "[25]\tvalidation_0-rmse:775.166\tvalidation_1-rmse:805.185\n",
      "[26]\tvalidation_0-rmse:772.689\tvalidation_1-rmse:802.714\n",
      "[27]\tvalidation_0-rmse:770.373\tvalidation_1-rmse:801.129\n",
      "[28]\tvalidation_0-rmse:768.204\tvalidation_1-rmse:799.974\n",
      "[29]\tvalidation_0-rmse:766.309\tvalidation_1-rmse:799.144\n",
      "[30]\tvalidation_0-rmse:764.253\tvalidation_1-rmse:796.485\n",
      "[31]\tvalidation_0-rmse:762.141\tvalidation_1-rmse:795.588\n",
      "[32]\tvalidation_0-rmse:760.933\tvalidation_1-rmse:795.905\n",
      "[33]\tvalidation_0-rmse:759.243\tvalidation_1-rmse:796.592\n",
      "[34]\tvalidation_0-rmse:758.297\tvalidation_1-rmse:796.301\n",
      "[35]\tvalidation_0-rmse:757.464\tvalidation_1-rmse:795.551\n",
      "[36]\tvalidation_0-rmse:756.046\tvalidation_1-rmse:794.163\n",
      "[37]\tvalidation_0-rmse:754.114\tvalidation_1-rmse:793.734\n",
      "[38]\tvalidation_0-rmse:752.366\tvalidation_1-rmse:794.448\n",
      "[39]\tvalidation_0-rmse:751.609\tvalidation_1-rmse:793.828\n",
      "[40]\tvalidation_0-rmse:750.668\tvalidation_1-rmse:793.638\n",
      "[41]\tvalidation_0-rmse:749.814\tvalidation_1-rmse:793.494\n",
      "[42]\tvalidation_0-rmse:748.446\tvalidation_1-rmse:794.882\n",
      "[43]\tvalidation_0-rmse:747.2\tvalidation_1-rmse:794.989\n",
      "[44]\tvalidation_0-rmse:746.028\tvalidation_1-rmse:794.555\n",
      "[45]\tvalidation_0-rmse:745.398\tvalidation_1-rmse:793.702\n",
      "[46]\tvalidation_0-rmse:744.797\tvalidation_1-rmse:793.348\n",
      "[47]\tvalidation_0-rmse:742.959\tvalidation_1-rmse:796.365\n",
      "[48]\tvalidation_0-rmse:741.294\tvalidation_1-rmse:795.567\n",
      "[49]\tvalidation_0-rmse:739.967\tvalidation_1-rmse:795.53\n",
      "[50]\tvalidation_0-rmse:738.85\tvalidation_1-rmse:795.314\n",
      "[51]\tvalidation_0-rmse:738.319\tvalidation_1-rmse:796.277\n",
      "[52]\tvalidation_0-rmse:737.138\tvalidation_1-rmse:797.124\n",
      "[53]\tvalidation_0-rmse:736.33\tvalidation_1-rmse:801.886\n",
      "[54]\tvalidation_0-rmse:735.563\tvalidation_1-rmse:801.765\n",
      "[55]\tvalidation_0-rmse:733.909\tvalidation_1-rmse:801.419\n",
      "[56]\tvalidation_0-rmse:732.752\tvalidation_1-rmse:801.23\n",
      "[57]\tvalidation_0-rmse:731.812\tvalidation_1-rmse:801.726\n",
      "[58]\tvalidation_0-rmse:730.722\tvalidation_1-rmse:803.293\n",
      "[59]\tvalidation_0-rmse:729.875\tvalidation_1-rmse:802.932\n",
      "[60]\tvalidation_0-rmse:728.932\tvalidation_1-rmse:804.094\n",
      "[61]\tvalidation_0-rmse:727.539\tvalidation_1-rmse:810.282\n",
      "[62]\tvalidation_0-rmse:725.91\tvalidation_1-rmse:809.91\n",
      "[63]\tvalidation_0-rmse:724.85\tvalidation_1-rmse:809.706\n",
      "[64]\tvalidation_0-rmse:723.689\tvalidation_1-rmse:810.216\n",
      "[65]\tvalidation_0-rmse:722.695\tvalidation_1-rmse:810.092\n",
      "[66]\tvalidation_0-rmse:721.594\tvalidation_1-rmse:809.901\n",
      "[67]\tvalidation_0-rmse:720.496\tvalidation_1-rmse:810.042\n",
      "[68]\tvalidation_0-rmse:719.304\tvalidation_1-rmse:810.641\n",
      "[69]\tvalidation_0-rmse:718.255\tvalidation_1-rmse:815.347\n",
      "[70]\tvalidation_0-rmse:717.197\tvalidation_1-rmse:815.316\n",
      "[71]\tvalidation_0-rmse:716.145\tvalidation_1-rmse:815.151\n",
      "[72]\tvalidation_0-rmse:715.579\tvalidation_1-rmse:816.909\n",
      "[73]\tvalidation_0-rmse:715.159\tvalidation_1-rmse:816.237\n",
      "[74]\tvalidation_0-rmse:714.142\tvalidation_1-rmse:816.016\n",
      "[75]\tvalidation_0-rmse:713.093\tvalidation_1-rmse:816.274\n",
      "[76]\tvalidation_0-rmse:712.298\tvalidation_1-rmse:819.637\n",
      "[77]\tvalidation_0-rmse:711.105\tvalidation_1-rmse:820.476\n",
      "[78]\tvalidation_0-rmse:710.386\tvalidation_1-rmse:819.101\n",
      "[79]\tvalidation_0-rmse:709.643\tvalidation_1-rmse:819.834\n",
      "[80]\tvalidation_0-rmse:708.761\tvalidation_1-rmse:819.735\n",
      "[81]\tvalidation_0-rmse:707.957\tvalidation_1-rmse:820.099\n",
      "[82]\tvalidation_0-rmse:707.266\tvalidation_1-rmse:823.765\n",
      "[83]\tvalidation_0-rmse:706.619\tvalidation_1-rmse:824.738\n",
      "[84]\tvalidation_0-rmse:705.661\tvalidation_1-rmse:824.83\n",
      "[85]\tvalidation_0-rmse:704.203\tvalidation_1-rmse:826.615\n",
      "[86]\tvalidation_0-rmse:703.313\tvalidation_1-rmse:826.599\n",
      "[87]\tvalidation_0-rmse:702.285\tvalidation_1-rmse:826.082\n",
      "[88]\tvalidation_0-rmse:700.866\tvalidation_1-rmse:825.602\n",
      "[89]\tvalidation_0-rmse:699.54\tvalidation_1-rmse:826.559\n",
      "[90]\tvalidation_0-rmse:698.323\tvalidation_1-rmse:825.838\n",
      "[91]\tvalidation_0-rmse:697.233\tvalidation_1-rmse:826.515\n",
      "[92]\tvalidation_0-rmse:696.606\tvalidation_1-rmse:825.876\n",
      "[93]\tvalidation_0-rmse:695.461\tvalidation_1-rmse:825.808\n",
      "[94]\tvalidation_0-rmse:694.908\tvalidation_1-rmse:825.122\n",
      "[95]\tvalidation_0-rmse:694.175\tvalidation_1-rmse:826.041\n",
      "[96]\tvalidation_0-rmse:693.112\tvalidation_1-rmse:829.063\n",
      "[97]\tvalidation_0-rmse:692.559\tvalidation_1-rmse:828.686\n",
      "[98]\tvalidation_0-rmse:692.297\tvalidation_1-rmse:828.658\n",
      "[99]\tvalidation_0-rmse:691.681\tvalidation_1-rmse:828.091\n"
     ]
    }
   ],
   "source": [
    "param_dist = {'objective':'reg:squarederror', 'n_estimators':100, 'max_depth':5}\n",
    "num_round = 50\n",
    "bst = xgb.XGBModel(**param_dist)\n",
    "bst.fit(x_train, y_train.ravel(), eval_set=[(x_train, y_train), (x_valid, y_valid)], verbose = True)\n",
    "# make prediction\n",
    "preds = bst.predict(x_valid)"
   ]
  },
  {
   "cell_type": "code",
   "execution_count": null,
   "metadata": {},
   "outputs": [],
   "source": []
  },
  {
   "cell_type": "code",
   "execution_count": 41,
   "metadata": {},
   "outputs": [
    {
     "name": "stdout",
     "output_type": "stream",
     "text": [
      "The MSE error is:  685734.2127783629\n",
      "The variance of the validation set is:  931163.7219348116\n",
      "The model explians  0.2635728856000583  of the variance in data\n"
     ]
    }
   ],
   "source": [
    "evaluate(bst, x_valid, y_valid)"
   ]
  },
  {
   "cell_type": "code",
   "execution_count": null,
   "metadata": {},
    
   "outputs": [],
   "source": [
    "import xgboost as xgb\n",
    "\n",
    "param = {'max_depth':20, 'eta':0.3, 'objective':'reg:squarederror', 'eval_metric':'rmse' }\n",
    "num_round = 5\n",
    "bst = xgboost(x_train, num_round, label=y_train, eta=1, max_depth=2)\n",
    "\n",
    "preds = bst.predict(x_valid)\n",
    "print(preds)"
   ]
  },
  {
   "cell_type": "code",
   "execution_count": null,
   "metadata": {},
   "outputs": [],
   "source": [
    "error = mean_squared_error(y_valid, bst.predict(x_valid))\n",
    "var = np.var(y_valid)\n",
    "print(\"The MSE error is: \", error)\n",
    "print(\"The variance of the validation set is: \", var)\n",
    "r_2 = 1 - error / var \n",
    "\n",
    "print(\"The model explians \" ,r_2 , \" of the variance in data\")"
   ]
  },
  {
   "cell_type": "code",
   "execution_count": null,
   "metadata": {},
>