{
 "cells": [
  {
   "cell_type": "code",
   "execution_count": 1,
   "metadata": {},
   "outputs": [],
   "source": [
    "from data_processor import DataProcessor\n",
    "import numpy as np\n",
    "import numpy as np\n",
    "import xgboost as xgb\n",
    "from sklearn.metrics import mean_squared_error\n",
    "import matplotlib.pyplot as plt "
   ]
  },
  {
   "cell_type": "code",
   "execution_count": 2,
   "metadata": {},
   "outputs": [],
   "source": [
    "def evaluate(model, x_valid, y_valid):\n",
    "    error = mean_squared_error(y_valid.ravel(), model.predict(x_valid))\n",
    "    var = np.var(y_valid.ravel())\n",
    "    #print(\"The MSE error is: \", error)\n",
    "    #print(\"The variance of the validation set is: \", var)\n",
    "    r_2 = 1 - error / var\n",
    "\n",
    "    #print(\"The model explians\" ,r_2 ,\" of the variance in data\")\n",
    "    return r_2\n",
    "    "
   ]
  },
  {
   "cell_type": "code",
   "execution_count": 3,
   "metadata": {},
   "outputs": [],
   "source": [
    "file_1 = \"../data/Train.csv\"\n",
    "file_2 = \"../data/additional_data/trainRoot_edited.csv\"\n",
    "\n",
    "processor = DataProcessor(file_1, file_2, test = False, minimal = True)\n",
    "x_train, x_valid, y_train, y_valid = processor.get_numpy_data(fillna = True, additional = True,\n",
    "                                                                            encode = True, np_split = True, enocde_user = False,\n",
    "                                                                            normalize = True, drop_ones = True)"
   ]
  },
  {
   "cell_type": "code",
   "execution_count": 4,
   "metadata": {},
   "outputs": [],
   "source": [
    "results = []"
   ]
  },
  {
   "cell_type": "code",
   "execution_count": null,
   "metadata": {},
   "outputs": [
    {
     "name": "stdout",
     "output_type": "stream",
     "text": [
      "[0]\tvalidation_0-rmse:866.486\n",
      "[0]\tvalidation_0-rmse:866.486\n",
      "[0]\tvalidation_0-rmse:866.486\n",
      "[0]\tvalidation_0-rmse:866.486\n",
      "[0]\tvalidation_0-rmse:866.486\n",
      "[0]\tvalidation_0-rmse:864.304\n",
      "[0]\tvalidation_0-rmse:864.304\n",
      "[0]\tvalidation_0-rmse:864.304\n",
      "[0]\tvalidation_0-rmse:864.304\n",
      "[0]\tvalidation_0-rmse:864.304\n",
      "[0]\tvalidation_0-rmse:862.927\n",
      "[0]\tvalidation_0-rmse:862.927\n",
      "[0]\tvalidation_0-rmse:862.927\n",
      "[0]\tvalidation_0-rmse:862.927\n",
      "[0]\tvalidation_0-rmse:862.927\n",
      "[0]\tvalidation_0-rmse:863.254\n",
      "[0]\tvalidation_0-rmse:863.254\n",
      "[0]\tvalidation_0-rmse:863.254\n",
      "[0]\tvalidation_0-rmse:863.254\n",
      "[0]\tvalidation_0-rmse:863.254\n",
      "[0]\tvalidation_0-rmse:825.479\n",
      "[0]\tvalidation_0-rmse:825.479\n",
      "[0]\tvalidation_0-rmse:825.479\n",
      "[0]\tvalidation_0-rmse:825.479\n",
      "[0]\tvalidation_0-rmse:825.479\n",
      "[0]\tvalidation_0-rmse:821.923\n"
     ]
    }
   ],
   "source": [
    "for depth in range (1, 5): \n",
    "    for estimators in range(100, 1000, 250):\n",
    "        for weight in range(1, 10, 2): \n",
    "            param_dist = {'objective':'reg:squarederror', 'n_estimators':estimators, 'max_depth':depth, 'min_child_weight': weight}\n",
    "            bst = xgb.XGBRFRegressor(**param_dist)\n",
    "            #print(\"=*=\"*20)\n",
    "            bst.fit(x_train, y_train.ravel(), eval_set=[(x_valid, y_valid)], verbose = True)\n",
    "            #print(\"depth = \",depth, \"estimators = \", estimators )\n",
    "            #results = bst.evals_result()\n",
    "            r_2 = evaluate(bst, x_valid, y_valid)\n",
    "            results.append((r_2, depth, estimators, weight))\n",
    "print(results)"
   ]
  },
  {
   "cell_type": "code",
   "execution_count": 7,
   "metadata": {},
   "outputs": [
    {
     "data": {
      "text/plain": [
       "0.2538446788630273"
      ]
     },
     "execution_count": 7,
     "metadata": {},
     "output_type": "execute_result"
    }
   ],
   "source": [
    "evaluate(bst, x_valid, y_valid)"
   ]
  },
  {
   "cell_type": "code",
   "execution_count": 8,
   "metadata": {},
   "outputs": [],
   "source": [
    "rs = []\n",
    "ests = []\n",
    "depths = []\n",
    "for result in results:\n",
    "    rs.append(result[0])\n",
    "    depths.append(result[1])\n",
    "    ests.append(result[2])"
   ]
  },
  {
   "cell_type": "code",
   "execution_count": 17,
   "metadata": {},
   "outputs": [
    {
     "data": {
      "image/png": "[encoded data removed]",
      "text/plain": [
       "<Figure size 432x288 with 1 Axes>"
      ]
     },
     "metadata": {
      "needs_background": "light"
     },
     "output_type": "display_data"
    }
   ],
   "source": [
    "#plt.plot(ests, rs)\n",
    "#plt.plot(depths, rs)\n",
    "plt.plot(rs)\n",
    "plt.show()"
   ]
  },
  {
   "cell_type": "code",
   "execution_count": 15,
   "metadata": {},
   "outputs": [
    {
     "name": "stdout",
     "output_type": "stream",
     "text": [
      "[0.20575325430546587, 0.2122634904350127, 0.21059152356933664, 0.20934343880414774, 0.2087568237405667, 0.20816299495223678, 0.2081256935657403, 0.20775413947632115, 0.2080246050011394, 0.20800510447046072, 0.20792415046564883, 0.20790124125859666, 0.20767931202559076, 0.20781008601647588, 0.2078507728225647, 0.20768115292464295, 0.20764913278039732, 0.20760167103463478, 0.2075067240819226, 0.20742495247582726, 0.2887125615132403, 0.2798174933188272, 0.27895400693626005, 0.20575325430546587, 0.20974850697371605, 0.2122634904350127, 0.2116664488516724, 0.3073324857522469, 0.31044742715373186, 0.3109361962457926, 0.3105470309389289, 0.3133787360413268, 0.3142171133386854, 0.3145580517561427, 0.3148587376406998, 0.3117169008690508, 0.309157460401866, 0.30647673237497775, 0.30655098107176915, 0.30358838788131814, 0.2995796839753493, 0.29513229489835735, 0.2937445759020336, 0.2887125615132403, 0.28460573502751785, 0.2798174933188272, 0.27815328855132415, 0.2805684563138562, 0.2740566612838865, 0.26936384630631705, 0.2672230110394268, 0.2720922973806372, 0.2663512185129905, 0.26192731218050924, 0.25962729537096685, 0.2689756282115877, 0.26230103120512016, 0.25787813047753994, 0.2559050034564806, 0.26629158841361245, 0.2604258225689684, 0.2557659446570417, 0.2538446788630273]\n"
     ]
    }
   ],
   "source": [
    "print(rs)"
   ]
  },
  {
   "cell_type": "code",
   "execution_count": null,
   "metadata": {},
   "outputs": [],
   "source": []
  }
 ],
 "metadata": {
  "kernelspec": {
   "display_name": "Python 3",
   "language": "python",
   "name": "python3"
  },
  "language_info": {
   "codemirror_mode": {
    "name": "ipython",
    "version": 3
   },
   "file_extension": ".py",
   "mimetype": "text/x-python",
   "name": "python",
   "nbconvert_exporter": "python",
   "pygments_lexer": "ipython3",
   "version": "3.7.4"
  }
 },
 "nbformat": 4,
 "nbformat_minor": 2
}
