{
 "cells": [
  {
   "cell_type": "code",
   "execution_count": 1,
   "metadata": {
    "collapsed": true
   },
   "outputs": [],
   "source": [
    "from data_processor import DataProcessor\n",
    "import numpy as np\n",
    "import numpy as np\n",
    "import xgboost as xgb\n",
    "from sklearn.metrics import mean_squared_error\n",
    "import matplotlib.pyplot as plt "
   ]
  },
  {
   "cell_type": "code",
   "execution_count": 2,
   "metadata": {
    "collapsed": true
   },
   "outputs": [],
   "source": [
    "def evaluate(model, x_valid, y_valid):\n",
    "    error = mean_squared_error(y_valid.ravel(), model.predict(x_valid))\n",
    "    var = np.var(y_valid.ravel())\n",
    "    #print(\"The MSE error is: \", error)\n",
    "    #print(\"The variance of the validation set is: \", var)\n",
    "    r_2 = 1 - error / var\n",
    "\n",
    "    #print(\"The model explians\" ,r_2 ,\" of the variance in data\")\n",
    "    return r_2\n",
    "    "
   ]
  },
  {
   "cell_type": "code",
   "execution_count": 3,
   "metadata": {},
   "outputs": [
    {
     "name": "stdout",
     "output_type": "stream",
     "text": [
      "   Vehicle Type  Platform Type  Personal or Business  \\\n",
      "0             0              2                     0   \n",
      "1             0              2                     1   \n",
      "2             0              2                     0   \n",
      "3             0              2                     0   \n",
      "4             0              0                     1   \n",
      "\n",
      "   Placement - Day of Month  Placement - Weekday (Mo = 1)  Distance (KM)  \\\n",
      "0                         9                             5              4   \n",
      "1                        12                             5             16   \n",
      "2                        30                             2              3   \n",
      "3                        15                             5              9   \n",
      "4                        13                             1              9   \n",
      "\n",
      "   Temperature  Pickup Lat  Pickup Long  Destination Lat       ...         \\\n",
      "0    20.400000   -1.317755    36.830370        -1.300406       ...          \n",
      "1    26.400000   -1.351453    36.899315        -1.295004       ...          \n",
      "2    23.232178   -1.308284    36.843419        -1.300921       ...          \n",
      "3    19.200000   -1.281301    36.832396        -1.257147       ...          \n",
      "4    15.400000   -1.266597    36.792118        -1.295041       ...          \n",
      "\n",
      "   Placement - Time_S  Confirmation - Time_H  Confirmation - Time_M  \\\n",
      "0                  46                      9                     40   \n",
      "1                  16                     11                     23   \n",
      "2                  25                     12                     42   \n",
      "3                  34                      9                     26   \n",
      "4                  18                      9                     56   \n",
      "\n",
      "   Confirmation - Time_S  Arrival at Pickup - Time_H  \\\n",
      "0                     10                          10   \n",
      "1                     21                          11   \n",
      "2                     44                          12   \n",
      "3                      5                           9   \n",
      "4                     18                          10   \n",
      "\n",
      "   Arrival at Pickup - Time_M  Arrival at Pickup - Time_S  Pickup - Time_H  \\\n",
      "0                           4                          47               10   \n",
      "1                          40                          22               11   \n",
      "2                          49                          34               12   \n",
      "3                          37                          56                9   \n",
      "4                           3                          53               10   \n",
      "\n",
      "   Pickup - Time_M  Pickup - Time_S  \n",
      "0               27               30  \n",
      "1               44                9  \n",
      "2               53                3  \n",
      "3               43                6  \n",
      "4                5               23  \n",
      "\n",
      "[5 rows x 27 columns]\n"
     ]
    }
   ],
   "source": [
    "file_1 = \"../data/Train.csv\"\n",
    "file_2 = \"../data/additional_data/trainRoot_edited.csv\"\n",
    "\n",
    "processor = DataProcessor(file_1, file_2, test = False, minimal = True)\n",
    "x_train, x_valid, y_train, y_valid = processor.get_numpy_data(fillna = True, additional = True,\n",
    "                                                                            encode = True, np_split = True, enocde_user = False,\n",
    "                                                                            normalize = True, drop_ones = True)"
   ]
  },
  {
   "cell_type": "code",
   "execution_count": 4,
   "metadata": {
    "collapsed": true
   },
   "outputs": [],
   "source": [
    "results = []"
   ]
  },
  {
   "cell_type": "code",
   "execution_count": 9,
   "metadata": {},
   "outputs": [
    {
     "name": "stdout",
     "output_type": "stream",
     "text": [
      "   Vehicle Type  Platform Type  Personal or Business  \\\n",
      "0             0              2                     0   \n",
      "1             0              2                     0   \n",
      "2             0              2                     0   \n",
      "3             0              2                     0   \n",
      "4             0              2                     0   \n",
      "\n",
      "   Placement - Day of Month  Placement - Weekday (Mo = 1)  Distance (KM)  \\\n",
      "0                        27                             3              8   \n",
      "1                        17                             5              5   \n",
      "2                        27                             4              5   \n",
      "3                        17                             1              5   \n",
      "4                        11                             2              6   \n",
      "\n",
      "   Temperature  Pickup Lat  Pickup Long  Destination Lat       ...         \\\n",
      "0     23.24612   -1.333275    36.870815        -1.305249       ...          \n",
      "1     23.24612   -1.272639    36.794723        -1.277007       ...          \n",
      "2     22.80000   -1.290894    36.822971        -1.276574       ...          \n",
      "3     24.50000   -1.290503    36.809646        -1.303382       ...          \n",
      "4     24.40000   -1.281081    36.814423        -1.266467       ...          \n",
      "\n",
      "   Placement - Time_S  Confirmation - Time_H  Confirmation - Time_M  \\\n",
      "0                  10                     16                     44   \n",
      "1                  35                     12                     59   \n",
      "2                  14                     11                     25   \n",
      "3                  35                     13                     53   \n",
      "4                  28                     11                     34   \n",
      "\n",
      "   Confirmation - Time_S  Arrival at Pickup - Time_H  \\\n",
      "0                     29                          16   \n",
      "1                     17                          13   \n",
      "2                      5                          11   \n",
      "3                     27                          14   \n",
      "4                     45                          11   \n",
      "\n",
      "   Arrival at Pickup - Time_M  Arrival at Pickup - Time_S  Pickup - Time_H  \\\n",
      "0                          53                           4               17   \n",
      "1                          20                          27               13   \n",
      "2                          33                          20               11   \n",
      "3                           2                          41               14   \n",
      "4                          47                          19               11   \n",
      "\n",
      "   Pickup - Time_M  Pickup - Time_S  \n",
      "0                6               47  \n",
      "1               25               37  \n",
      "2               57               54  \n",
      "3               16               52  \n",
      "4               56                4  \n",
      "\n",
      "[5 rows x 26 columns]\n"
     ]
    }
   ],
   "source": [
    "file_1 = \"../data/Test.csv\"\n",
    "file_2 = \"../data/additional_data/testRoot_edited.csv\"\n",
    "\n",
    "processor = DataProcessor(file_1, file_2, test = True, minimal = True)\n",
    "x_test = processor.get_numpy_data(fillna = True, additional = True,\n",
    "                                  encode = True, np_split = False, enocde_user = False,\n",
    "                                  normalize = True, drop_ones = False)"
   ]
  },
  {
   "cell_type": "code",
   "execution_count": 5,
   "metadata": {},
   "outputs": [],
   "source": [
    "# i =0 \n",
    "# for depth in range (1, 10, 2): \n",
    "#     for estimators in range(100, 1500, 300):\n",
    "#         for weight in range(1, 50, 3):\n",
    "#             i += 1\n",
    "#             param_dist = {'objective':'reg:squarederror', 'n_estimators':estimators, 'max_depth':depth, 'min_child_weight': weight}\n",
    "#             bst = xgb.XGBRFRegressor(**param_dist)\n",
    "#             #print(\"=*=\"*20)\n",
    "#             bst.fit(x_train, y_train.ravel(), eval_set=[(x_valid, y_valid)], verbose = True)\n",
    "#             #print(\"depth = \",depth, \"estimators = \", estimators )\n",
    "#             #results = bst.evals_result()\n",
    "#             r_2 = evaluate(bst, x_valid, y_valid)\n",
    "#             results.append((r_2, depth, estimators, weight))\n",
    "            \n",
    "#             if i % 5 ==0:\n",
    "#                 with open (\"results.txt\", \"w\") as f:\n",
    "#                     for element in results[i-5:i]:\n",
    "#                         f.write(str(element)+'\\n')\n",
    "# #print(results)"
   ]
  },
  {
   "cell_type": "code",
   "execution_count": 6,
   "metadata": {
    "collapsed": true
   },
   "outputs": [],
   "source": [
    "# rs = []\n",
    "# ests = []\n",
    "# depths = []\n",
    "# ws = []\n",
    "# for result in results:\n",
    "#     rs.append(result[0])\n",
    "#     depths.append(result[1])\n",
    "#     ests.append(result[2])\n",
    "#     ws.append(result[3])"
   ]
  },
  {
   "cell_type": "code",
   "execution_count": 7,
   "metadata": {},
   "outputs": [],
   "source": [
    "# #plt.plot(ests, rs)\n",
    "# #plt.plot(depths, rs)\n",
    "# #plt.plot(ws, rs)\n",
    "# plt.plot(rs)\n",
    "# plt.show()"
   ]
  },
  {
   "cell_type": "code",
   "execution_count": 8,
   "metadata": {},
   "outputs": [],
   "source": [
    "#print(rs)"
   ]
  },
  {
   "cell_type": "markdown",
   "metadata": {
    "collapsed": true
   },
   "source": [
    "### Predictions "
   ]
  },
  {
   "cell_type": "code",
   "execution_count": 10,
   "metadata": {},
   "outputs": [
    {
     "name": "stdout",
     "output_type": "stream",
     "text": [
      "(10620, 26)\n",
      "(7068, 26)\n"
     ]
    }
   ],
   "source": [
    "print(x_train.shape)\n",
    "print(x_test.shape)"
   ]
  },
  {
   "cell_type": "code",
   "execution_count": null,
   "metadata": {},
   "outputs": [],
   "source": [
    "param_dist = {'objective':'reg:squarederror', 'n_estimators':1300, 'max_depth':9, 'min_child_weight': 49}\n",
    "bst = xgb.XGBRFRegressor(**param_dist)\n",
    "bst.fit(x_train, y_train.ravel(), eval_set=[(x_valid, y_valid)], verbose = True)\n",
    "#bst.fit(x_valid, y_valid.ravel(), eval_set=[(x_valid, y_valid)], verbose = True)\n",
    "\n",
    "pr = bst.predict(x_test)\n",
    "            \n",
    "print(pr)"
   ]
  },
  {
   "cell_type": "code",
   "execution_count": null,
   "metadata": {},
   "outputs": [],
   "source": []
  },
  {
   "cell_type": "code",
   "execution_count": null,
   "metadata": {},
   "outputs": [],
   "source": [
    "np.savetxt(\"../data/submissions/test_preds.csv\", preds, delimiter=\"\\n\", fmt='%4.2f')"
   ]
  },
  {
   "cell_type": "code",
   "execution_count": null,
   "metadata": {
    "collapsed": true
   },
   "outputs": [],
   "source": []
  }
 ],
 "metadata": {
  "kernelspec": {
   "display_name": "Python 3",
   "language": "python",
   "name": "python3"
  },
  "language_info": {
   "codemirror_mode": {
    "name": "ipython",
    "version": 3
   },
   "file_extension": ".py",
   "mimetype": "text/x-python",
   "name": "python",
   "nbconvert_exporter": "python",
   "pygments_lexer": "ipython3",
   "version": "3.5.3"
  }
 },
 "nbformat": 4,
 "nbformat_minor": 2
}
