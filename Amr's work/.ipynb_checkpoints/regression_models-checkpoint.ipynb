{
 "cells": [
  {
   "cell_type": "code",
   "execution_count": 1,
   "metadata": {
    "collapsed": true
   },
   "outputs": [],
   "source": [
    "from data_processor import DataProcessor\n",
    "import numpy as np\n",
    "import numpy as np\n",
    "import xgboost as xgb\n",
    "from sklearn.metrics import mean_squared_error"
   ]
  },
  {
   "cell_type": "code",
   "execution_count": 2,
   "metadata": {
    "collapsed": true
   },
   "outputs": [],
   "source": [
    "def evaluate(model, x_valid, y_valid):\n",
    "    error = mean_squared_error(y_valid.ravel(), model.predict(x_valid))\n",
    "    var = np.var(y_valid.ravel())\n",
    "    print(\"The MSE error is: \", error)\n",
    "    print(\"The variance of the validation set is: \", var)\n",
    "    r_2 = 1 - error / var\n",
    "\n",
    "    print(\"The model explians\" ,r_2 ,\" of the variance in data\")"
   ]
  },
  {
   "cell_type": "code",
   "execution_count": 3,
   "metadata": {
    "collapsed": true
   },
   "outputs": [],
   "source": [
    "processor = DataProcessor(\"../data/Train.csv\", test = False, minimal = True)\n",
    "x_train, x_valid, y_train, y_valid = processor.get_numpy_data(True, True, True, False, True)"
   ]
  },
  {
   "cell_type": "code",
   "execution_count": 21,
   "metadata": {},
   "outputs": [
    {
     "name": "stdout",
     "output_type": "stream",
     "text": [
      "[0]\tvalidation_0-rmse:1703.1\tvalidation_1-rmse:1699.18\n",
      "[1]\tvalidation_0-rmse:1579.16\tvalidation_1-rmse:1575.26\n",
      "[2]\tvalidation_0-rmse:1470.64\tvalidation_1-rmse:1466.89\n",
      "[3]\tvalidation_0-rmse:1375.73\tvalidation_1-rmse:1371.47\n",
      "[4]\tvalidation_0-rmse:1292.97\tvalidation_1-rmse:1288.79\n",
      "[5]\tvalidation_0-rmse:1221.52\tvalidation_1-rmse:1217.01\n",
      "[6]\tvalidation_0-rmse:1159.74\tvalidation_1-rmse:1155.36\n",
      "[7]\tvalidation_0-rmse:1106.74\tvalidation_1-rmse:1102.06\n",
      "[8]\tvalidation_0-rmse:1061.39\tvalidation_1-rmse:1056.87\n",
      "[9]\tvalidation_0-rmse:1022.61\tvalidation_1-rmse:1018.16\n",
      "[10]\tvalidation_0-rmse:989.609\tvalidation_1-rmse:985.255\n",
      "[11]\tvalidation_0-rmse:961.7\tvalidation_1-rmse:957.16\n",
      "[12]\tvalidation_0-rmse:937.905\tvalidation_1-rmse:933.517\n",
      "[13]\tvalidation_0-rmse:917.833\tvalidation_1-rmse:913.431\n",
      "[14]\tvalidation_0-rmse:900.916\tvalidation_1-rmse:896.213\n",
      "[15]\tvalidation_0-rmse:886.693\tvalidation_1-rmse:882.201\n",
      "[16]\tvalidation_0-rmse:874.64\tvalidation_1-rmse:870.166\n",
      "[17]\tvalidation_0-rmse:864.504\tvalidation_1-rmse:860.249\n",
      "[18]\tvalidation_0-rmse:855.834\tvalidation_1-rmse:851.639\n",
      "[19]\tvalidation_0-rmse:848.55\tvalidation_1-rmse:844.571\n",
      "[20]\tvalidation_0-rmse:842.3\tvalidation_1-rmse:838.447\n",
      "[21]\tvalidation_0-rmse:837.036\tvalidation_1-rmse:833.211\n",
      "[22]\tvalidation_0-rmse:832.581\tvalidation_1-rmse:828.948\n",
      "[23]\tvalidation_0-rmse:828.698\tvalidation_1-rmse:825.215\n",
      "[24]\tvalidation_0-rmse:825.44\tvalidation_1-rmse:822.046\n",
      "[25]\tvalidation_0-rmse:822.601\tvalidation_1-rmse:819.082\n",
      "[26]\tvalidation_0-rmse:820.17\tvalidation_1-rmse:816.634\n",
      "[27]\tvalidation_0-rmse:818.111\tvalidation_1-rmse:814.677\n",
      "[28]\tvalidation_0-rmse:816.264\tvalidation_1-rmse:812.97\n",
      "[29]\tvalidation_0-rmse:814.68\tvalidation_1-rmse:811.633\n",
      "[30]\tvalidation_0-rmse:813.244\tvalidation_1-rmse:810.195\n",
      "[31]\tvalidation_0-rmse:812.004\tvalidation_1-rmse:808.963\n",
      "[32]\tvalidation_0-rmse:810.915\tvalidation_1-rmse:808.078\n",
      "[33]\tvalidation_0-rmse:809.926\tvalidation_1-rmse:807.051\n",
      "[34]\tvalidation_0-rmse:809.066\tvalidation_1-rmse:806.192\n",
      "[35]\tvalidation_0-rmse:808.276\tvalidation_1-rmse:805.44\n",
      "[36]\tvalidation_0-rmse:807.589\tvalidation_1-rmse:804.805\n",
      "[37]\tvalidation_0-rmse:806.949\tvalidation_1-rmse:804.198\n",
      "[38]\tvalidation_0-rmse:806.355\tvalidation_1-rmse:803.65\n",
      "[39]\tvalidation_0-rmse:805.822\tvalidation_1-rmse:803.254\n",
      "[40]\tvalidation_0-rmse:805.347\tvalidation_1-rmse:802.692\n",
      "[41]\tvalidation_0-rmse:804.914\tvalidation_1-rmse:802.272\n",
      "[42]\tvalidation_0-rmse:804.512\tvalidation_1-rmse:801.889\n",
      "[43]\tvalidation_0-rmse:804.12\tvalidation_1-rmse:801.85\n",
      "[44]\tvalidation_0-rmse:803.755\tvalidation_1-rmse:801.598\n",
      "[45]\tvalidation_0-rmse:803.427\tvalidation_1-rmse:801.237\n",
      "[46]\tvalidation_0-rmse:803.113\tvalidation_1-rmse:801.005\n",
      "[47]\tvalidation_0-rmse:802.809\tvalidation_1-rmse:801.038\n",
      "[48]\tvalidation_0-rmse:802.515\tvalidation_1-rmse:800.745\n",
      "[49]\tvalidation_0-rmse:802.244\tvalidation_1-rmse:800.567\n",
      "[50]\tvalidation_0-rmse:801.984\tvalidation_1-rmse:800.617\n",
      "[51]\tvalidation_0-rmse:801.725\tvalidation_1-rmse:800.277\n",
      "[52]\tvalidation_0-rmse:801.479\tvalidation_1-rmse:800.1\n",
      "[53]\tvalidation_0-rmse:801.242\tvalidation_1-rmse:799.893\n",
      "[54]\tvalidation_0-rmse:801.006\tvalidation_1-rmse:799.986\n",
      "[55]\tvalidation_0-rmse:800.784\tvalidation_1-rmse:799.754\n",
      "[56]\tvalidation_0-rmse:800.564\tvalidation_1-rmse:799.833\n",
      "[57]\tvalidation_0-rmse:800.359\tvalidation_1-rmse:799.664\n",
      "[58]\tvalidation_0-rmse:800.165\tvalidation_1-rmse:799.522\n",
      "[59]\tvalidation_0-rmse:799.97\tvalidation_1-rmse:799.379\n",
      "[60]\tvalidation_0-rmse:799.777\tvalidation_1-rmse:799.487\n",
      "[61]\tvalidation_0-rmse:799.588\tvalidation_1-rmse:799.289\n",
      "[62]\tvalidation_0-rmse:799.399\tvalidation_1-rmse:799.397\n",
      "[63]\tvalidation_0-rmse:799.211\tvalidation_1-rmse:799.183\n",
      "[64]\tvalidation_0-rmse:799.034\tvalidation_1-rmse:799.076\n",
      "[65]\tvalidation_0-rmse:798.856\tvalidation_1-rmse:799.174\n",
      "[66]\tvalidation_0-rmse:798.698\tvalidation_1-rmse:799.317\n",
      "[67]\tvalidation_0-rmse:798.541\tvalidation_1-rmse:799.203\n",
      "[68]\tvalidation_0-rmse:798.385\tvalidation_1-rmse:799.054\n",
      "[69]\tvalidation_0-rmse:798.23\tvalidation_1-rmse:799.179\n",
      "[70]\tvalidation_0-rmse:798.076\tvalidation_1-rmse:799.064\n",
      "[71]\tvalidation_0-rmse:797.926\tvalidation_1-rmse:798.915\n",
      "[72]\tvalidation_0-rmse:797.776\tvalidation_1-rmse:798.799\n",
      "[73]\tvalidation_0-rmse:797.635\tvalidation_1-rmse:798.718\n",
      "[74]\tvalidation_0-rmse:797.496\tvalidation_1-rmse:798.594\n",
      "[75]\tvalidation_0-rmse:797.358\tvalidation_1-rmse:798.7\n",
      "[76]\tvalidation_0-rmse:797.223\tvalidation_1-rmse:798.544\n",
      "[77]\tvalidation_0-rmse:797.09\tvalidation_1-rmse:798.687\n",
      "[78]\tvalidation_0-rmse:796.962\tvalidation_1-rmse:798.664\n",
      "[79]\tvalidation_0-rmse:796.836\tvalidation_1-rmse:798.508\n",
      "[80]\tvalidation_0-rmse:796.712\tvalidation_1-rmse:798.367\n",
      "[81]\tvalidation_0-rmse:796.586\tvalidation_1-rmse:798.498\n",
      "[82]\tvalidation_0-rmse:796.464\tvalidation_1-rmse:798.402\n",
      "[83]\tvalidation_0-rmse:796.345\tvalidation_1-rmse:798.273\n",
      "[84]\tvalidation_0-rmse:796.229\tvalidation_1-rmse:798.168\n",
      "[85]\tvalidation_0-rmse:796.115\tvalidation_1-rmse:797.953\n",
      "[86]\tvalidation_0-rmse:796.001\tvalidation_1-rmse:797.864\n",
      "[87]\tvalidation_0-rmse:795.886\tvalidation_1-rmse:797.754\n",
      "[88]\tvalidation_0-rmse:795.774\tvalidation_1-rmse:797.856\n",
      "[89]\tvalidation_0-rmse:795.665\tvalidation_1-rmse:797.778\n",
      "[90]\tvalidation_0-rmse:795.556\tvalidation_1-rmse:799.885\n",
      "[91]\tvalidation_0-rmse:795.449\tvalidation_1-rmse:800.124\n",
      "[92]\tvalidation_0-rmse:795.345\tvalidation_1-rmse:800.044\n",
      "[93]\tvalidation_0-rmse:795.245\tvalidation_1-rmse:799.928\n",
      "[94]\tvalidation_0-rmse:795.144\tvalidation_1-rmse:799.844\n",
      "[95]\tvalidation_0-rmse:795.042\tvalidation_1-rmse:799.186\n",
      "[96]\tvalidation_0-rmse:794.945\tvalidation_1-rmse:799.177\n",
      "[97]\tvalidation_0-rmse:794.846\tvalidation_1-rmse:799.35\n",
      "[98]\tvalidation_0-rmse:794.749\tvalidation_1-rmse:799.265\n",
      "[99]\tvalidation_0-rmse:794.651\tvalidation_1-rmse:799.259\n"
     ]
    }
   ],
   "source": [
    "param_dist = {'objective':'reg:squarederror', 'n_estimators':100, 'max_depth':1}\n",
    "bst = xgb.XGBModel(**param_dist)\n",
    "bst.fit(x_train, y_train.ravel(), eval_set=[(x_train, y_train), (x_valid, y_valid)], verbose = True)\n",
    "preds = bst.predict(x_valid)"
   ]
  },
  {
   "cell_type": "code",
   "execution_count": 23,
   "metadata": {},
   "outputs": [
    {
     "name": "stdout",
     "output_type": "stream",
     "text": [
      "The MSE error is:  638817.116497\n",
      "The variance of the validation set is:  969113.641081\n",
      "The model explians 0.340823315845  of the variance in data\n"
     ]
    }
   ],
   "source": [
    "evaluate(bst, x_valid, y_valid)"
   ]
  },
  {
   "cell_type": "code",
   "execution_count": null,
   "metadata": {
    "collapsed": true
   },
   "outputs": [],
   "source": []
  }
 ],
 "metadata": {
  "kernelspec": {
   "display_name": "Python 3",
   "language": "python",
   "name": "python3"
  },
  "language_info": {
   "codemirror_mode": {
    "name": "ipython",
    "version": 3
   },
   "file_extension": ".py",
   "mimetype": "text/x-python",
   "name": "python",
   "nbconvert_exporter": "python",
   "pygments_lexer": "ipython3",
   "version": "3.5.3"
  }
 },
 "nbformat": 4,
 "nbformat_minor": 2
}
