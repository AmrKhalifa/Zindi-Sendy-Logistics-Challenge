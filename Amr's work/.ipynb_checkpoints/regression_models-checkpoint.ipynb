{
 "cells": [
  {
   "cell_type": "code",
   "execution_count": 1,
   "metadata": {},
   "outputs": [],
   "source": [
    "from data_processor import DataProcessor\n",
    "from sklearn.metrics import mean_squared_error\n",
    "from sklearn.ensemble import GradientBoostingRegressor\n",
    "from sklearn.kernel_ridge import KernelRidge\n",
    "from sklearn.linear_model import SGDRegressor\n",
    "import numpy as np"
   ]
  },
  {
   "cell_type": "code",
   "execution_count": null,
   "metadata": {},
   "outputs": [],
   "source": [
    "processor = DataProcessor(\"../data/Train.csv\", test = False, minimal = True)\n",
    "x_train, x_valid, y_train, y_valid = processor.get_numpy_data(True, True, True, False, True)"
   ]
  },
  {
   "cell_type": "code",
   "execution_count": null,
   "metadata": {},
   "outputs": [],
   "source": [
    "batch_size = 512"
   ]
  },
  {
   "cell_type": "code",
   "execution_count": null,
   "metadata": {},
   "outputs": [],
   "source": [
    "# est = GradientBoostingRegressor(n_estimators=100, learning_rate=0.1,\n",
    "#                                 max_depth=10, random_state=0, loss='ls')\n",
    "# for b in range(0, len(x_train), batch_size):\n",
    "#     est.fit(x_train[b:b+batch_size], y_train[b:b+batch_size]) \n",
    "#     print(mean_squared_error(y_valid, est.predict(x_valid)))\n"
   ]
  },
  {
   "cell_type": "code",
   "execution_count": 5,
   "metadata": {
    "collapsed": true
   },
   "outputs": [],
   "source": [
    "batch_size = 512"
   ]
  },
  {
   "cell_type": "code",
   "execution_count": 6,
   "metadata": {},
   "outputs": [
    {
     "name": "stdout",
     "output_type": "stream",
     "text": [
      "51704057.149\n",
      "2744907279.23\n",
      "15262891.1694\n",
      "569798670.347\n",
      "330698313.186\n",
      "1921602.72244\n",
      "81503833.3087\n",
      "292776085.548\n",
      "988715653.144\n",
      "423996353.022\n",
      "630677019.367\n",
      "2105042778.6\n",
      "2499512.42684\n",
      "208469124.56\n",
      "370579574.891\n",
      "8061908.89385\n",
      "14675474.5407\n",
      "681140067.31\n",
      "913077172.333\n",
      "76725942.7805\n",
      "40164962.7598\n",
      "185818966.767\n",
      "222247441.568\n",
      "585277571.784\n",
      "3938005.62886\n",
      "20042939.6333\n",
      "57810285.9697\n",
      "26961320.0035\n"
     ]
    }
   ],
   "source": [
    "reg = KernelRidge(alpha=.01, kernel = \"linear\")\n",
    "\n",
    "for b in range(0, len(x_train), batch_size):\n",
    "    reg.fit(x_train[b:b+batch_size], y_train[b:b+batch_size]) \n",
    "    print(mean_squared_error(y_valid, reg.predict(x_valid)))\n"
   ]
  },
  {
   "cell_type": "code",
   "execution_count": 7,
   "metadata": {},
   "outputs": [
    {
     "data": {
      "text/plain": [
       "array([[ 6606.35397339],\n",
       "       [ 7102.64259338],\n",
       "       [ 6868.12837219],\n",
       "       [ 6419.40144348],\n",
       "       [ 6050.2530365 ],\n",
       "       [ 6513.42407227],\n",
       "       [ 6098.21826172],\n",
       "       [ 7534.76919556],\n",
       "       [ 6544.14099121],\n",
       "       [ 7394.53572083],\n",
       "       [ 6279.79354858],\n",
       "       [ 7041.11381531],\n",
       "       [ 6490.34361267],\n",
       "       [ 5916.13191223],\n",
       "       [ 6969.1590271 ],\n",
       "       [ 6596.72962952],\n",
       "       [ 6188.95661926],\n",
       "       [ 6301.78529358],\n",
       "       [ 6435.81666565],\n",
       "       [ 7335.01445007],\n",
       "       [ 7163.35249329],\n",
       "       [ 6893.01954651],\n",
       "       [ 7077.37138367],\n",
       "       [ 6140.86361694],\n",
       "       [ 6837.18969727],\n",
       "       [ 7802.95413208],\n",
       "       [ 6233.47705078],\n",
       "       [ 6131.32142639],\n",
       "       [ 6306.63829041],\n",
       "       [ 7656.02958679],\n",
       "       [ 5852.77206421],\n",
       "       [ 6890.41113281],\n",
       "       [ 6255.61968994],\n",
       "       [ 6328.21488953],\n",
       "       [ 7860.71954346],\n",
       "       [ 6334.75845337],\n",
       "       [ 7178.03633118],\n",
       "       [ 6788.88671875],\n",
       "       [ 6072.89993286],\n",
       "       [ 6783.02885437],\n",
       "       [ 7278.80274963],\n",
       "       [ 7098.06484985],\n",
       "       [ 7375.15531921],\n",
       "       [ 6266.94633484],\n",
       "       [ 6806.33058167],\n",
       "       [ 6532.32987976],\n",
       "       [ 6546.85873413],\n",
       "       [ 7473.10865784],\n",
       "       [ 7362.39408875],\n",
       "       [ 7236.53182983],\n",
       "       [ 7576.88154602],\n",
       "       [ 6407.78578186],\n",
       "       [ 6616.59736633],\n",
       "       [ 6361.45573425],\n",
       "       [ 6380.4037323 ],\n",
       "       [ 7324.95953369],\n",
       "       [ 6425.58294678],\n",
       "       [ 7893.90483093],\n",
       "       [ 6069.49819946],\n",
       "       [ 6992.71607971],\n",
       "       [ 5733.44915771],\n",
       "       [ 7998.77781677],\n",
       "       [ 5736.24510193],\n",
       "       [ 6773.30426025],\n",
       "       [ 7266.95329285],\n",
       "       [ 6310.00819397],\n",
       "       [ 6909.94160461],\n",
       "       [ 6803.04571533],\n",
       "       [ 6654.77047729],\n",
       "       [ 6737.79293823],\n",
       "       [ 8453.45941162],\n",
       "       [ 6986.82276917],\n",
       "       [ 6286.72737122],\n",
       "       [ 8620.33253479],\n",
       "       [ 6737.69424438],\n",
       "       [ 6348.94052124],\n",
       "       [ 6363.45851135],\n",
       "       [ 5973.87728882],\n",
       "       [ 6763.98451233],\n",
       "       [ 6220.63687134],\n",
       "       [ 6590.9546814 ],\n",
       "       [ 5981.97406006],\n",
       "       [ 6274.35083008],\n",
       "       [ 6710.44085693],\n",
       "       [ 5894.0398407 ],\n",
       "       [ 6659.89039612],\n",
       "       [ 6078.05964661],\n",
       "       [ 7347.96481323],\n",
       "       [ 7006.97433472],\n",
       "       [ 6274.95317078],\n",
       "       [ 6542.37698364],\n",
       "       [ 5982.05393982],\n",
       "       [ 7413.7878418 ],\n",
       "       [ 6733.80249023],\n",
       "       [ 7285.93911743],\n",
       "       [ 6057.42140198],\n",
       "       [ 5856.26977539],\n",
       "       [ 7131.17216492],\n",
       "       [ 6262.73025513],\n",
       "       [ 8122.96174622]])"
      ]
     },
     "execution_count": 7,
     "metadata": {},
     "output_type": "execute_result"
    }
   ],
   "source": [
    "reg.predict(x_valid[:100])"
   ]
  },
  {
   "cell_type": "code",
   "execution_count": 8,
   "metadata": {},
   "outputs": [
    {
     "name": "stdout",
     "output_type": "stream",
     "text": [
      "The MSE error is:  26961320.0035\n",
      "The variance of the validation set is:  974585.094369\n",
      "The model explians  -26.6644083306  of the variance in data\n"
     ]
    }
   ],
   "source": [
    "error = mean_squared_error(y_valid, reg.predict(x_valid))\n",
    "var = np.var(y_valid)\n",
    "print(\"The MSE error is: \", error)\n",
    "print(\"The variance of the validation set is: \", var)\n",
    "r_2 = 1 - error / var \n",
    "\n",
    "print(\"The model explians \" ,r_2 , \" of the variance in data\")"
   ]
  },
  {
   "cell_type": "code",
   "execution_count": 9,
   "metadata": {},
   "outputs": [],
   "source": [
    "processor = DataProcessor(\"../data/Test.csv\", test = True)\n",
    "x_test = processor.get_numpy_data(True, True, True, False, True)"
   ]
  },
  {
   "cell_type": "code",
   "execution_count": 10,
   "metadata": {},
   "outputs": [
    {
     "name": "stdout",
     "output_type": "stream",
     "text": [
      "30\n",
      "30\n"
     ]
    }
   ],
   "source": [
    "print(len(x_test[0]))\n",
    "print(len(x_valid[0]))\n"
   ]
  },
  {
   "cell_type": "code",
   "execution_count": null,
   "metadata": {},
   "outputs": [],
   "source": [
    "import xgboost as xgb\n",
    "\n",
    "param = {'max_depth':20, 'eta':0.3, 'objective':'reg:squarederror', 'eval_metric':'rmse' }\n",
    "num_round = 5\n",
    "bst = xgboost(x_train, num_round, label=y_train, eta=1, max_depth=2)\n",
    "\n",
    "preds = bst.predict(x_valid)\n",
    "print(preds)"
   ]
  },
  {
   "cell_type": "code",
   "execution_count": null,
   "metadata": {},
   "outputs": [],
   "source": [
    "error = mean_squared_error(y_valid, bst.predict(x_valid))\n",
    "var = np.var(y_valid)\n",
    "print(\"The MSE error is: \", error)\n",
    "print(\"The variance of the validation set is: \", var)\n",
    "r_2 = 1 - error / var \n",
    "\n",
    "print(\"The model explians \" ,r_2 , \" of the variance in data\")"
   ]
  },
  {
   "cell_type": "code",
   "execution_count": null,
   "metadata": {},
   "outputs": [],
   "source": []
  }
 ],
 "metadata": {
  "kernelspec": {
   "display_name": "Python 3",
   "language": "python",
   "name": "python3"
  },
  "language_info": {
   "codemirror_mode": {
    "name": "ipython",
    "version": 3
   },
   "file_extension": ".py",
   "mimetype": "text/x-python",
   "name": "python",
   "nbconvert_exporter": "python",
   "pygments_lexer": "ipython3",
   "version": "3.7.4"
  }
 },
 "nbformat": 4,
 "nbformat_minor": 2
}
